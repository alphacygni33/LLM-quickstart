{
 "cells": [
  {
   "cell_type": "markdown",
   "metadata": {},
   "source": [
    "# Hugging Face Transformers 微调语言模型-问答任务\n",
    "\n",
    "我们已经学会使用 Pipeline 加载支持问答任务的预训练模型，本教程代码将展示如何微调训练一个支持问答任务的模型。\n",
    "\n",
    "**注意：微调后的模型仍然是通过提取上下文的子串来回答问题的，而不是生成新的文本。**\n",
    "\n",
    "### 模型执行问答效果示例\n",
    "\n",
    "![Widget inference representing the QA task](docs/images/question_answering.png)"
   ]
  },
  {
   "cell_type": "code",
   "execution_count": 1,
   "metadata": {
    "id": "zVvslsfMIrIh"
   },
   "outputs": [],
   "source": [
    "# 根据你使用的模型和GPU资源情况，调整以下关键参数\n",
    "squad_v2 = False\n",
    "model_checkpoint = \"distilbert-base-uncased\"\n",
    "batch_size = 16"
   ]
  },
  {
   "cell_type": "markdown",
   "metadata": {
    "id": "whPRbBNbIrIl"
   },
   "source": [
    "## 下载数据集\n",
    "\n",
    "在本教程中，我们将使用[斯坦福问答数据集(SQuAD）](https://rajpurkar.github.io/SQuAD-explorer/)。\n",
    "\n",
    "### SQuAD 数据集\n",
    "\n",
    "**斯坦福问答数据集(SQuAD)** 是一个阅读理解数据集，由众包工作者在一系列维基百科文章上提出问题组成。每个问题的答案都是相应阅读段落中的文本片段或范围，或者该问题可能无法回答。\n",
    "\n",
    "SQuAD2.0将SQuAD1.1中的10万个问题与由众包工作者对抗性地撰写的5万多个无法回答的问题相结合，使其看起来与可回答的问题类似。要在SQuAD2.0上表现良好，系统不仅必须在可能时回答问题，还必须确定段落中没有支持任何答案，并放弃回答。"
   ]
  },
  {
   "cell_type": "code",
   "execution_count": 2,
   "metadata": {
    "id": "IreSlFmlIrIm"
   },
   "outputs": [
    {
     "name": "stderr",
     "output_type": "stream",
     "text": [
      "/home/imdl/anaconda3/envs/peft/lib/python3.10/site-packages/tqdm/auto.py:21: TqdmWarning: IProgress not found. Please update jupyter and ipywidgets. See https://ipywidgets.readthedocs.io/en/stable/user_install.html\n",
      "  from .autonotebook import tqdm as notebook_tqdm\n"
     ]
    }
   ],
   "source": [
    "from datasets import load_dataset"
   ]
  },
  {
   "cell_type": "code",
   "execution_count": 3,
   "metadata": {
    "colab": {
     "base_uri": "https://localhost:8080/",
     "height": 270,
     "referenced_widgets": [
      "69caab03d6264fef9fc5649bffff5e20",
      "3f74532faa86412293d90d3952f38c4a",
      "50615aa59c7247c4804ca5cbc7945bd7",
      "fe962391292a413ca55dc932c4279fa7",
      "299f4b4c07654e53a25f8192bd1d7bbd",
      "ad04ed1038154081bbb0c1444784dcc2",
      "7c667ad22b5740d5a6319f1b1e3a8097",
      "46c2b043c0f84806978784a45a4e203b",
      "80e2943be35f46eeb24c8ab13faa6578",
      "de5956b5008d4fdba807bae57509c393",
      "931db1f7a42f4b46b7ff8c2e1262b994",
      "6c1db72efff5476e842c1386fadbbdba",
      "ccd2f37647c547abb4c719b75a26f2de",
      "d30a66df5c0145e79693e09789d96b81",
      "5fa26fc336274073abbd1d550542ee33",
      "2b34de08115d49d285def9269a53f484",
      "d426be871b424affb455aeb7db5e822e",
      "160bf88485f44f5cb6eaeecba5e0901f",
      "745c0d47d672477b9bb0dae77b926364",
      "d22ab78269cd4ccfbcf70c707057c31b",
      "d298eb19eeff453cba51c2804629d3f4",
      "a7204ade36314c86907c562e0a2158b8",
      "e35d42b2d352498ca3fc8530393786b2",
      "75103f83538d44abada79b51a1cec09e",
      "f6253931d90543e9b5fd0bb2d615f73a",
      "051aa783ff9e47e28d1f9584043815f5",
      "0984b2a14115454bbb009df71c1cf36f",
      "8ab9dfce29854049912178941ef1b289",
      "c9de740e007141958545e269372780a4",
      "cbea68b25d6d4ba09b2ce0f27b1726d5",
      "5781fc45cf8d486cb06ed68853b2c644",
      "d2a92143a08a4951b55bab9bc0a6d0d3",
      "a14c3e40e5254d61ba146f6ec88eae25",
      "c4ffe6f624ce4e978a0d9b864544941a",
      "1aca01c1d8c940dfadd3e7144bb35718",
      "9fbbaae50e6743f2aa19342152398186",
      "fea27ca6c9504fc896181bc1ff5730e5",
      "940d00556cb849b3a689d56e274041c2",
      "5cdf9ed939fb42d4bf77301c80b8afca",
      "94b39ccfef0b4b08bf2fb61bb0a657c1",
      "9a55087c85b74ea08b3e952ac1d73cbe",
      "2361ab124daf47cc885ff61f2899b2af",
      "1a65887eb37747ddb75dc4a40f7285f2",
      "3c946e2260704e6c98593136bd32d921",
      "50d325cdb9844f62a9ecc98e768cb5af",
      "aa781f0cfe454e9da5b53b93e9baabd8",
      "6bb68d3887ef43809eb23feb467f9723",
      "7e29a8b952cf4f4ea42833c8bf55342f",
      "dd5997d01d8947e4b1c211433969b89b",
      "2ace4dc78e2f4f1492a181bcd63304e7",
      "bbee008c2791443d8610371d1f16b62b",
      "31b1c8a2e3334b72b45b083688c1a20c",
      "7fb7c36adc624f7dbbcb4a831c1e4f63",
      "0b7c8f1939074794b3d9221244b1344d",
      "a71908883b064e1fbdddb547a8c41743",
      "2f5223f26c8541fc87e91d2205c39995"
     ]
    },
    "id": "s_AY1ATSIrIq",
    "outputId": "fd0578d1-8895-443d-b56f-5908de9f1b6b"
   },
   "outputs": [
    {
     "name": "stderr",
     "output_type": "stream",
     "text": [
      "Using the latest cached version of the dataset since squad couldn't be found on the Hugging Face Hub\n",
      "Found the latest cached dataset configuration 'plain_text' at /home/imdl/DataSets/vol2/pretrained/huggingface/datasets/squad/plain_text/0.0.0/7b6d24c440a36b6815f21b70d25016731768db1f (last modified on Tue Sep 10 17:09:20 2024).\n"
     ]
    }
   ],
   "source": [
    "datasets = load_dataset(\"squad_v2\" if squad_v2 else \"squad\")"
   ]
  },
  {
   "cell_type": "markdown",
   "metadata": {
    "id": "RzfPtOMoIrIu"
   },
   "source": [
    "The `datasets` object itself is [`DatasetDict`](https://huggingface.co/docs/datasets/package_reference/main_classes.html#datasetdict), which contains one key for the training, validation and test set."
   ]
  },
  {
   "cell_type": "code",
   "execution_count": 5,
   "metadata": {
    "id": "GWiVUF0jIrIv",
    "outputId": "35e3ea43-f397-4a54-c90c-f2cf8d36873e"
   },
   "outputs": [
    {
     "data": {
      "text/plain": [
       "DatasetDict({\n",
       "    train: Dataset({\n",
       "        features: ['id', 'title', 'context', 'question', 'answers'],\n",
       "        num_rows: 87599\n",
       "    })\n",
       "    validation: Dataset({\n",
       "        features: ['id', 'title', 'context', 'question', 'answers'],\n",
       "        num_rows: 10570\n",
       "    })\n",
       "})"
      ]
     },
     "execution_count": 5,
     "metadata": {},
     "output_type": "execute_result"
    }
   ],
   "source": [
    "datasets"
   ]
  },
  {
   "cell_type": "markdown",
   "metadata": {},
   "source": [
    "#### 对比数据集\n",
    "\n",
    "相比快速入门使用的 Yelp 评论数据集，我们可以看到 SQuAD 训练和测试集都新增了用于上下文、问题以及问题答案的列：\n",
    "\n",
    "**YelpReviewFull Dataset：**\n",
    "\n",
    "```json\n",
    "\n",
    "DatasetDict({\n",
    "    train: Dataset({\n",
    "        features: ['label', 'text'],\n",
    "        num_rows: 650000\n",
    "    })\n",
    "    test: Dataset({\n",
    "        features: ['label', 'text'],\n",
    "        num_rows: 50000\n",
    "    })\n",
    "})\n",
    "```"
   ]
  },
  {
   "cell_type": "code",
   "execution_count": 6,
   "metadata": {
    "id": "X6HrpprwIrIz",
    "outputId": "d7670bc0-42e4-4c09-8a6a-5c018ded7d95"
   },
   "outputs": [
    {
     "data": {
      "text/plain": [
       "{'id': '5733be284776f41900661182',\n",
       " 'title': 'University_of_Notre_Dame',\n",
       " 'context': 'Architecturally, the school has a Catholic character. Atop the Main Building\\'s gold dome is a golden statue of the Virgin Mary. Immediately in front of the Main Building and facing it, is a copper statue of Christ with arms upraised with the legend \"Venite Ad Me Omnes\". Next to the Main Building is the Basilica of the Sacred Heart. Immediately behind the basilica is the Grotto, a Marian place of prayer and reflection. It is a replica of the grotto at Lourdes, France where the Virgin Mary reputedly appeared to Saint Bernadette Soubirous in 1858. At the end of the main drive (and in a direct line that connects through 3 statues and the Gold Dome), is a simple, modern stone statue of Mary.',\n",
       " 'question': 'To whom did the Virgin Mary allegedly appear in 1858 in Lourdes France?',\n",
       " 'answers': {'text': ['Saint Bernadette Soubirous'], 'answer_start': [515]}}"
      ]
     },
     "execution_count": 6,
     "metadata": {},
     "output_type": "execute_result"
    }
   ],
   "source": [
    "datasets[\"train\"][0]"
   ]
  },
  {
   "cell_type": "markdown",
   "metadata": {},
   "source": [
    "#### 从上下文中组织回复内容\n",
    "\n",
    "我们可以看到答案是通过它们在文本中的起始位置（这里是第515个字符）以及它们的完整文本表示的，这是上面提到的上下文的子字符串。"
   ]
  },
  {
   "cell_type": "code",
   "execution_count": 29,
   "metadata": {
    "id": "i3j8APAoIrI3"
   },
   "outputs": [],
   "source": [
    "from datasets import ClassLabel, Sequence\n",
    "import random\n",
    "import pandas as pd\n",
    "from IPython.display import display, HTML\n",
    "\n",
    "def show_random_elements(dataset, num_examples=10):\n",
    "    assert num_examples <= len(dataset), \"Can't pick more elements than there are in the dataset.\"\n",
    "    picks = []\n",
    "    for _ in range(num_examples):\n",
    "        pick = random.randint(0, len(dataset)-1)\n",
    "        while pick in picks:\n",
    "            pick = random.randint(0, len(dataset)-1)\n",
    "        picks.append(pick)\n",
    "    \n",
    "    df = pd.DataFrame(dataset[picks])\n",
    "    for column, typ in dataset.features.items():\n",
    "        if isinstance(typ, ClassLabel):\n",
    "            df[column] = df[column].transform(lambda i: typ.names[i])\n",
    "        elif isinstance(typ, Sequence) and isinstance(typ.feature, ClassLabel):\n",
    "            df[column] = df[column].transform(lambda x: [typ.feature.names[i] for i in x])\n",
    "    display(HTML(df.to_html()))"
   ]
  },
  {
   "cell_type": "code",
   "execution_count": 8,
   "metadata": {
    "collapsed": true,
    "id": "SZy5tRB_IrI7",
    "jupyter": {
     "outputs_hidden": true
    },
    "outputId": "ba8f2124-e485-488f-8c0c-254f34f24f13"
   },
   "outputs": [
    {
     "data": {
      "text/html": [
       "<table border=\"1\" class=\"dataframe\">\n",
       "  <thead>\n",
       "    <tr style=\"text-align: right;\">\n",
       "      <th></th>\n",
       "      <th>id</th>\n",
       "      <th>title</th>\n",
       "      <th>context</th>\n",
       "      <th>question</th>\n",
       "      <th>answers</th>\n",
       "    </tr>\n",
       "  </thead>\n",
       "  <tbody>\n",
       "    <tr>\n",
       "      <th>0</th>\n",
       "      <td>57318ff105b4da19006bd2c0</td>\n",
       "      <td>Muammar_Gaddafi</td>\n",
       "      <td>In the 1970s and 1980s there were reports of his making sexual advances toward female reporters and members of his entourage. After the civil war, more serious charges came to light. Annick Cojean, a journalist for Le Monde, wrote in her book, Gaddafi's Harem that Gaddafi had raped, tortured, performed urolagnia, and imprisoned hundreds or thousands of women, usually very young. Another source—Libyan psychologist Seham Sergewa—reported that several of his female bodyguards claim to have been raped by Gaddafi and senior officials. After the civil war, Luis Moreno Ocampo, prosecutor for the International Criminal Court, said there was evidence that Gaddafi told soldiers to rape women who had spoken out against his regime. In 2011 Amnesty International questioned this and other claims used to justify NATO's war in Libya.</td>\n",
       "      <td>What publication did Annick Cojean work for?</td>\n",
       "      <td>{'text': ['Le Monde'], 'answer_start': [215]}</td>\n",
       "    </tr>\n",
       "    <tr>\n",
       "      <th>1</th>\n",
       "      <td>5725b834271a42140099d0a2</td>\n",
       "      <td>Bill_%26_Melinda_Gates_Foundation</td>\n",
       "      <td>The foundation explains on its website that its trustees divided the organization into two entities: the Bill &amp; Melinda Gates Foundation (foundation) and the Bill &amp; Melinda Gates Foundation Trust (trust). The foundation section, based in Seattle, US, \"focuses on improving health and alleviating extreme poverty,\" and its trustees are Bill and Melinda Gates and Warren Buffett. The trust section manages \"the investment assets and transfer proceeds to the foundation as necessary to achieve the foundation's charitable goals\"—it holds the assets of Bill and Melinda Gates, who are the sole trustees, and receives contributions from Buffett.</td>\n",
       "      <td>What does the foundation entity focus on</td>\n",
       "      <td>{'text': ['The foundation section, based in Seattle, US, \"focuses on improving health and alleviating extreme poverty'], 'answer_start': [205]}</td>\n",
       "    </tr>\n",
       "    <tr>\n",
       "      <th>2</th>\n",
       "      <td>5726129e38643c19005acfb3</td>\n",
       "      <td>Buckingham_Palace</td>\n",
       "      <td>Buckingham Palace finally became the principal royal residence in 1837, on the accession of Queen Victoria, who was the first monarch to reside there; her predecessor William IV had died before its completion. While the state rooms were a riot of gilt and colour, the necessities of the new palace were somewhat less luxurious. For one thing, it was reported the chimneys smoked so much that the fires had to be allowed to die down, and consequently the court shivered in icy magnificence. Ventilation was so bad that the interior smelled, and when a decision was taken to install gas lamps, there was a serious worry about the build-up of gas on the lower floors. It was also said that staff were lax and lazy and the palace was dirty. Following the queen's marriage in 1840, her husband, Prince Albert, concerned himself with a reorganisation of the household offices and staff, and with the design faults of the palace. The problems were all rectified by the close of 1840. However, the builders were to return within the decade.</td>\n",
       "      <td>Who died before seeing Buckingham Palace's completion?</td>\n",
       "      <td>{'text': ['William IV'], 'answer_start': [167]}</td>\n",
       "    </tr>\n",
       "    <tr>\n",
       "      <th>3</th>\n",
       "      <td>573425f84776f4190066196a</td>\n",
       "      <td>Montana</td>\n",
       "      <td>Tracks of the Northern Pacific Railroad (NPR) reached Montana from the west in 1881 and from the east in 1882. However, the railroad played a major role in sparking tensions with Native American tribes in the 1870s. Jay Cooke, the NPR president launched major surveys into the Yellowstone valley in 1871, 1872 and 1873 which were challenged forcefully by the Sioux under chief Sitting Bull. These clashes, in part, contributed to the Panic of 1873 which delayed construction of the railroad into Montana. Surveys in 1874, 1875 and 1876 helped spark the Great Sioux War of 1876. The transcontinental NPR was completed on September 8, 1883, at Gold Creek.</td>\n",
       "      <td>When did the Northern Pacific Railroad reach Montana from the east?</td>\n",
       "      <td>{'text': ['1882'], 'answer_start': [105]}</td>\n",
       "    </tr>\n",
       "    <tr>\n",
       "      <th>4</th>\n",
       "      <td>57293720af94a219006aa1ae</td>\n",
       "      <td>United_States_presidential_election,_2004</td>\n",
       "      <td>The following week, John Edwards won the South Carolina primary and finished a strong second in Oklahoma to Clark. Lieberman dropped out of the campaign the following day. Kerry dominated throughout February and his support quickly snowballed as he won caucuses and primaries, taking in a string of wins in Michigan, Washington, Maine, Tennessee, Washington, D.C., Nevada, Wisconsin, Utah, Hawaii, and Idaho. Clark and Dean dropped out during this time, leaving Edwards as the only real threat to Kerry. Kucinich and Sharpton continued to run despite poor results at the polls.</td>\n",
       "      <td>Which candidate won the Oklahoma primary?</td>\n",
       "      <td>{'text': ['Clark'], 'answer_start': [108]}</td>\n",
       "    </tr>\n",
       "    <tr>\n",
       "      <th>5</th>\n",
       "      <td>570c3f1dec8fbc190045be20</td>\n",
       "      <td>Mary_(mother_of_Jesus)</td>\n",
       "      <td>The doctrines of the Assumption or Dormition of Mary relate to her death and bodily assumption to Heaven. The Roman Catholic Church has dogmaically defined the doctrine of the Assumption, which was done in 1950 by Pope Pius XII in Munificentissimus Deus. Whether the Virgin Mary died or not is not defined dogmatically, however, although a reference to the death of Mary are made in Munificentissimus Deus. In the Eastern Orthodox Church, the Assumption of the Virgin Mary is believed, and celebrated with her Dormition, where they believe she died.</td>\n",
       "      <td>What is another name for the Assumption of Mary?</td>\n",
       "      <td>{'text': ['Dormition'], 'answer_start': [35]}</td>\n",
       "    </tr>\n",
       "    <tr>\n",
       "      <th>6</th>\n",
       "      <td>5731bd47e99e3014001e6238</td>\n",
       "      <td>Antibiotics</td>\n",
       "      <td>The majority of studies indicate antibiotics do interfere with contraceptive pills, such as clinical studies that suggest the failure rate of contraceptive pills caused by antibiotics is very low (about 1%). In cases where antibacterials have been suggested to affect the efficiency of birth control pills, such as for the broad-spectrum antibacterial rifampicin, these cases may be due to an increase in the activities of hepatic liver enzymes' causing increased breakdown of the pill's active ingredients. Effects on the intestinal flora, which might result in reduced absorption of estrogens in the colon, have also been suggested, but such suggestions have been inconclusive and controversial. Clinicians have recommended that extra contraceptive measures be applied during therapies using antibacterials that are suspected to interact with oral contraceptives.</td>\n",
       "      <td>Whhat does intestinal flora reduce?</td>\n",
       "      <td>{'text': ['absorption of estrogens'], 'answer_start': [571]}</td>\n",
       "    </tr>\n",
       "    <tr>\n",
       "      <th>7</th>\n",
       "      <td>5726b4e8dd62a815002e8d87</td>\n",
       "      <td>Somerset</td>\n",
       "      <td>The Somerset Coal Canal was built in the early 19th century to reduce the cost of transportation of coal and other heavy produce. The first 16 kilometres (10 mi), running from a junction with the Kennet and Avon Canal, along the Cam valley, to a terminal basin at Paulton, were in use by 1805, together with several tramways. A planned 11.7 km (7.3 mi) branch to Midford was never built, but in 1815 a tramway was laid along its towing path. In 1871 the tramway was purchased by the Somerset and Dorset Joint Railway (S&amp;DJR), and operated until the 1950s.</td>\n",
       "      <td>What was laid on the path to Midford</td>\n",
       "      <td>{'text': ['in 1815 a tramway was laid along its towing path'], 'answer_start': [392]}</td>\n",
       "    </tr>\n",
       "    <tr>\n",
       "      <th>8</th>\n",
       "      <td>56f76011a6d7ea1400e17218</td>\n",
       "      <td>Treaty</td>\n",
       "      <td>Articles 46–53 of the Vienna Convention on the Law of Treaties set out the only ways that treaties can be invalidated—considered unenforceable and void under international law. A treaty will be invalidated due to either the circumstances by which a state party joined the treaty, or due to the content of the treaty itself. Invalidation is separate from withdrawal, suspension, or termination (addressed above), which all involve an alteration in the consent of the parties of a previously valid treaty rather than the invalidation of that consent in the first place.</td>\n",
       "      <td>In addition to the content of the treaty itself, why might a treated by invalidated?</td>\n",
       "      <td>{'text': ['the circumstances by which a state party joined the treaty'], 'answer_start': [220]}</td>\n",
       "    </tr>\n",
       "    <tr>\n",
       "      <th>9</th>\n",
       "      <td>5707074190286e26004fc811</td>\n",
       "      <td>Black_people</td>\n",
       "      <td>The US racial or ethnic classification \"black\" refers to people with all possible kinds of skin pigmentation, from the darkest through to the very lightest skin colors, including albinos, if they are believed by others to have West African ancestry (in any discernible percentage), or to exhibit cultural traits associated with being \"African American\". As a result, in the United States the term \"black people\" is not an indicator of skin color or ethnic origin but is instead a socially based racial classification related to being African American, with a family history associated with institutionalized slavery. Relatively dark-skinned people can be classified as white if they fulfill other social criteria of \"whiteness\", and relatively light-skinned people can be classified as black if they fulfill the social criteria for \"blackness\" in a particular setting.</td>\n",
       "      <td>Where does the US base family history of African Americans from?</td>\n",
       "      <td>{'text': ['a family history associated with institutionalized slavery.'], 'answer_start': [557]}</td>\n",
       "    </tr>\n",
       "  </tbody>\n",
       "</table>"
      ],
      "text/plain": [
       "<IPython.core.display.HTML object>"
      ]
     },
     "metadata": {},
     "output_type": "display_data"
    }
   ],
   "source": [
    "show_random_elements(datasets[\"train\"])"
   ]
  },
  {
   "cell_type": "markdown",
   "metadata": {
    "id": "n9qywopnIrJH"
   },
   "source": [
    "## 预处理数据"
   ]
  },
  {
   "cell_type": "code",
   "execution_count": 4,
   "metadata": {
    "id": "eXNLu_-nIrJI"
   },
   "outputs": [
    {
     "name": "stderr",
     "output_type": "stream",
     "text": [
      "/home/imdl/anaconda3/envs/peft/lib/python3.10/site-packages/huggingface_hub/file_download.py:1150: FutureWarning: `resume_download` is deprecated and will be removed in version 1.0.0. Downloads always resume when possible. If you want to force a new download, use `force_download=True`.\n",
      "  warnings.warn(\n"
     ]
    }
   ],
   "source": [
    "from transformers import AutoTokenizer\n",
    "    \n",
    "tokenizer = AutoTokenizer.from_pretrained(model_checkpoint)"
   ]
  },
  {
   "cell_type": "markdown",
   "metadata": {
    "id": "Vl6IidfdIrJK"
   },
   "source": [
    "以下断言确保我们的 Tokenizers 使用的是 FastTokenizer（Rust 实现，速度和功能性上有一定优势）。"
   ]
  },
  {
   "cell_type": "code",
   "execution_count": 5,
   "metadata": {},
   "outputs": [],
   "source": [
    "import transformers\n",
    "assert isinstance(tokenizer, transformers.PreTrainedTokenizerFast)"
   ]
  },
  {
   "cell_type": "markdown",
   "metadata": {},
   "source": [
    "您可以在大模型表上查看哪种类型的模型具有可用的快速标记器，哪种类型没有。\n",
    "\n",
    "您可以直接在两个句子上调用此标记器（一个用于答案，一个用于上下文）："
   ]
  },
  {
   "cell_type": "code",
   "execution_count": 13,
   "metadata": {
    "id": "a5hBlsrHIrJL",
    "outputId": "acdaa98a-a8cd-4a20-89b8-cc26437bbe90"
   },
   "outputs": [
    {
     "data": {
      "text/plain": [
       "{'input_ids': [101, 2054, 2003, 2115, 2171, 1029, 102, 2026, 2171, 2003, 25353, 22144, 2378, 1012, 102], 'attention_mask': [1, 1, 1, 1, 1, 1, 1, 1, 1, 1, 1, 1, 1, 1, 1]}"
      ]
     },
     "execution_count": 13,
     "metadata": {},
     "output_type": "execute_result"
    }
   ],
   "source": [
    "tokenizer(\"What is your name?\", \"My name is Sylvain.\")"
   ]
  },
  {
   "cell_type": "markdown",
   "metadata": {},
   "source": [
    "### Tokenizer 进阶操作\n",
    "\n",
    "在问答预处理中的一个特定问题是如何处理非常长的文档。\n",
    "\n",
    "在其他任务中，当文档的长度超过模型最大句子长度时，我们通常会截断它们，但在这里，删除上下文的一部分可能会导致我们丢失正在寻找的答案。\n",
    "\n",
    "为了解决这个问题，我们允许数据集中的一个（长）示例生成多个输入特征，每个特征的长度都小于模型的最大长度（或我们设置的超参数）。"
   ]
  },
  {
   "cell_type": "code",
   "execution_count": 6,
   "metadata": {},
   "outputs": [],
   "source": [
    "# The maximum length of a feature (question and context)\n",
    "max_length = 512 \n",
    "# The authorized overlap between two part of the context when splitting it is needed.\n",
    "doc_stride = 128 "
   ]
  },
  {
   "cell_type": "markdown",
   "metadata": {},
   "source": [
    "#### 超出最大长度的文本数据处理\n",
    "\n",
    "下面，我们从训练集中找出一个超过最大长度（384）的文本："
   ]
  },
  {
   "cell_type": "code",
   "execution_count": 41,
   "metadata": {},
   "outputs": [],
   "source": [
    "for i, example in enumerate(datasets[\"train\"]):\n",
    "    if len(tokenizer(example[\"question\"], example[\"context\"])[\"input_ids\"]) > max_length:\n",
    "        break\n",
    "# 挑选出来超过384（最大长度）的数据样例\n",
    "example = datasets[\"train\"][i]"
   ]
  },
  {
   "cell_type": "code",
   "execution_count": 44,
   "metadata": {},
   "outputs": [
    {
     "data": {
      "text/plain": [
       "41"
      ]
     },
     "execution_count": 44,
     "metadata": {},
     "output_type": "execute_result"
    }
   ],
   "source": [
    "len(example[\"question\"])"
   ]
  },
  {
   "cell_type": "markdown",
   "metadata": {},
   "source": [
    "#### 截断上下文不保留超出部分"
   ]
  },
  {
   "cell_type": "code",
   "execution_count": 46,
   "metadata": {},
   "outputs": [
    {
     "data": {
      "text/plain": [
       "512"
      ]
     },
     "execution_count": 46,
     "metadata": {},
     "output_type": "execute_result"
    }
   ],
   "source": [
    "len(tokenizer(example[\"question\"],\n",
    "              example[\"context\"],\n",
    "              max_length=max_length,\n",
    "              truncation=\"only_second\")[\"input_ids\"])"
   ]
  },
  {
   "cell_type": "markdown",
   "metadata": {},
   "source": [
    "#### 关于截断的策略\n",
    "\n",
    "- 直接截断超出部分: truncation=`only_second`\n",
    "- 仅截断上下文（context），保留问题（question）：`return_overflowing_tokens=True` & 设置`stride`\n"
   ]
  },
  {
   "cell_type": "code",
   "execution_count": 52,
   "metadata": {},
   "outputs": [],
   "source": [
    "tokenized_example = tokenizer(\n",
    "    example[\"question\"],\n",
    "    example[\"context\"],\n",
    "    truncation=\"only_second\",\n",
    "    return_overflowing_tokens=True,\n",
    "    stride=doc_stride\n",
    ")"
   ]
  },
  {
   "cell_type": "markdown",
   "metadata": {},
   "source": [
    "使用此策略截断后，Tokenizer 将返回多个 `input_ids` 列表。"
   ]
  },
  {
   "cell_type": "code",
   "execution_count": 53,
   "metadata": {},
   "outputs": [
    {
     "data": {
      "text/plain": [
       "[512, 147]"
      ]
     },
     "execution_count": 53,
     "metadata": {},
     "output_type": "execute_result"
    }
   ],
   "source": [
    "[len(x) for x in tokenized_example[\"input_ids\"]]"
   ]
  },
  {
   "cell_type": "markdown",
   "metadata": {},
   "source": [
    "解码两个输入特征，可以看到重叠的部分："
   ]
  },
  {
   "cell_type": "code",
   "execution_count": 49,
   "metadata": {},
   "outputs": [
    {
     "name": "stdout",
     "output_type": "stream",
     "text": [
      "[CLS] when were the rinbung princes overthrown? [SEP] in 1565, the powerful rinbung princes were overthrown by one of their own ministers, karma tseten who styled himself as the tsangpa, \" the one of tsang \", and established his base of power at shigatse. the second successor of this first tsang king, karma phuntsok namgyal, took control of the whole of central tibet ( u - tsang ), reigning from 1611 – 1621. despite this, the leaders of lhasa still claimed their allegiance to the phagmodru as well as the gelug, while the u - tsang king allied with the karmapa. tensions rose between the nationalistic u - tsang ruler and the mongols who safeguarded their mongol dalai lama in lhasa. the fourth dalai lama refused to give an audience to the u - tsang king, which sparked a conflict as the latter began assaulting gelug monasteries. chen writes of the speculation over the fourth dalai lama's mysterious death and the plot of the u - tsang king to have him murdered for \" cursing \" him with illness, although chen writes that the murder was most likely the result of a feudal power struggle. in 1618, only two years after yonten gyatso died, the gelug and the karma kargyu went to war, the karma kargyu supported by the secular u - tsang king. the u - tsang ruler had a large number of gelugpa lamas killed, occupied their monasteries at drepung and sera, and outlawed any attempts to find another dalai lama. in 1621, the u - tsang king died and was succeeded by his young son karma tenkyong, an event which stymied the war effort as the latter accepted the six - year - old lozang gyatso as the new dalai lama. despite the new dalai lama's diplomatic efforts to maintain friendly relations with the new u - tsang ruler, sonam rapten ( 1595 – 1657 ), the dalai lama's chief steward and treasurer at drepung, made efforts to overthrow the u - tsang king, which led to another conflict. in 1633, the gelugpas and several thousand mongol adherents defeated the u - tsang king's troops near lhasa before a peaceful negotiation was settled. goldstein writes that in this the \" mongols were again playing a significant role in tibetan affairs, this time as the military arm [SEP]\n",
      "[CLS] when were the rinbung princes overthrown? [SEP] the new dalai lama. despite the new dalai lama's diplomatic efforts to maintain friendly relations with the new u - tsang ruler, sonam rapten ( 1595 – 1657 ), the dalai lama's chief steward and treasurer at drepung, made efforts to overthrow the u - tsang king, which led to another conflict. in 1633, the gelugpas and several thousand mongol adherents defeated the u - tsang king's troops near lhasa before a peaceful negotiation was settled. goldstein writes that in this the \" mongols were again playing a significant role in tibetan affairs, this time as the military arm of the dalai lama. \" [SEP]\n"
     ]
    }
   ],
   "source": [
    "for x in tokenized_example[\"input_ids\"]:\n",
    "    print(tokenizer.decode(x))"
   ]
  },
  {
   "cell_type": "markdown",
   "metadata": {},
   "source": [
    "#### 使用 offsets_mapping 获取原始的 input_ids\n",
    "\n",
    "设置 `return_offsets_mapping=True`，将使得截断分割生成的多个 input_ids 列表中的 token，通过映射保留原始文本的 input_ids。\n",
    "\n",
    "如下所示：第一个标记（[CLS]）的起始和结束字符都是（0, 0），因为它不对应问题/答案的任何部分，然后第二个标记与问题(question)的字符0到3相同."
   ]
  },
  {
   "cell_type": "code",
   "execution_count": 55,
   "metadata": {
    "collapsed": true,
    "jupyter": {
     "outputs_hidden": true
    }
   },
   "outputs": [
    {
     "name": "stdout",
     "output_type": "stream",
     "text": [
      "[[(0, 0), (0, 4), (5, 9), (10, 13), (14, 16), (16, 18), (18, 21), (22, 29), (30, 39), (39, 40), (40, 41), (0, 0), (0, 2), (3, 6), (6, 7), (7, 8), (9, 12), (13, 21), (22, 24), (24, 26), (26, 29), (30, 37), (38, 42), (43, 52), (52, 53), (54, 56), (57, 60), (61, 63), (64, 69), (70, 73), (74, 83), (83, 84), (85, 90), (91, 93), (93, 96), (96, 97), (98, 101), (102, 108), (109, 116), (117, 119), (120, 123), (124, 126), (126, 129), (129, 131), (131, 132), (133, 134), (134, 137), (138, 141), (142, 144), (145, 147), (147, 150), (150, 151), (151, 152), (153, 156), (157, 168), (169, 172), (173, 177), (178, 180), (181, 186), (187, 189), (190, 193), (193, 196), (196, 198), (198, 199), (200, 203), (204, 210), (211, 220), (221, 223), (224, 228), (229, 234), (235, 237), (237, 240), (241, 245), (245, 246), (247, 252), (253, 255), (255, 258), (258, 260), (260, 261), (262, 265), (265, 267), (267, 269), (269, 270), (271, 275), (276, 283), (284, 286), (287, 290), (291, 296), (297, 299), (300, 307), (308, 313), (314, 315), (315, 316), (316, 317), (317, 319), (319, 322), (322, 323), (323, 324), (325, 333), (334, 338), (339, 343), (343, 344), (344, 348), (348, 349), (350, 357), (358, 362), (362, 363), (364, 367), (368, 375), (376, 378), (379, 380), (380, 383), (383, 384), (385, 390), (391, 398), (399, 404), (405, 415), (416, 418), (419, 422), (423, 425), (425, 427), (427, 429), (429, 431), (431, 432), (433, 435), (436, 440), (441, 443), (444, 447), (448, 451), (451, 453), (453, 454), (455, 460), (461, 464), (465, 466), (466, 467), (467, 469), (469, 472), (473, 477), (478, 484), (485, 489), (490, 493), (494, 499), (499, 501), (501, 502), (503, 511), (512, 516), (517, 524), (525, 528), (529, 540), (540, 542), (543, 544), (544, 545), (545, 547), (547, 550), (551, 556), (557, 560), (561, 564), (565, 572), (573, 576), (577, 586), (586, 588), (589, 594), (595, 601), (602, 607), (608, 612), (613, 615), (616, 617), (617, 620), (620, 621), (621, 622), (623, 626), (627, 633), (634, 639), (640, 644), (645, 652), (653, 655), (656, 660), (661, 663), (664, 672), (673, 675), (676, 679), (680, 681), (681, 682), (682, 684), (684, 687), (688, 692), (692, 693), (694, 699), (700, 707), (708, 709), (710, 718), (719, 721), (722, 725), (726, 732), (733, 738), (739, 746), (746, 749), (750, 753), (753, 755), (756, 767), (767, 768), (769, 773), (774, 780), (781, 783), (784, 787), (788, 799), (800, 804), (805, 808), (809, 815), (816, 821), (822, 826), (826, 827), (827, 828), (829, 839), (840, 845), (846, 849), (850, 853), (854, 858), (859, 861), (862, 865), (866, 867), (867, 868), (868, 870), (870, 873), (874, 878), (879, 881), (882, 886), (887, 890), (891, 899), (900, 903), (904, 905), (905, 912), (912, 913), (914, 917), (918, 922), (923, 930), (930, 931), (932, 940), (941, 945), (946, 952), (953, 957), (958, 961), (962, 968), (969, 972), (973, 977), (978, 984), (985, 988), (989, 995), (996, 998), (999, 1000), (1001, 1007), (1008, 1013), (1014, 1022), (1022, 1023), (1024, 1026), (1027, 1031), (1031, 1032), (1033, 1037), (1038, 1041), (1042, 1047), (1048, 1053), (1054, 1056), (1056, 1059), (1059, 1060), (1061, 1062), (1062, 1065), (1065, 1067), (1068, 1072), (1072, 1073), (1074, 1077), (1078, 1081), (1081, 1083), (1084, 1087), (1088, 1091), (1092, 1097), (1098, 1100), (1100, 1103), (1103, 1104), (1105, 1109), (1110, 1112), (1113, 1116), (1116, 1117), (1118, 1121), (1122, 1127), (1128, 1130), (1130, 1133), (1133, 1134), (1135, 1144), (1145, 1147), (1148, 1151), (1152, 1159), (1160, 1161), (1161, 1162), (1162, 1164), (1164, 1167), (1168, 1172), (1172, 1173), (1174, 1177), (1178, 1179), (1179, 1180), (1180, 1182), (1182, 1185), (1186, 1191), (1192, 1195), (1196, 1197), (1198, 1203), (1204, 1210), (1211, 1213), (1214, 1217), (1217, 1219), (1219, 1221), (1222, 1226), (1226, 1227), (1228, 1234), (1234, 1235), (1236, 1244), (1245, 1250), (1251, 1262), (1263, 1265), (1266, 1268), (1268, 1270), (1270, 1273), (1274, 1277), (1278, 1282), (1282, 1283), (1284, 1287), (1288, 1296), (1297, 1300), (1301, 1309), (1310, 1312), (1313, 1317), (1318, 1325), (1326, 1331), (1332, 1336), (1336, 1337), (1338, 1340), (1341, 1345), (1345, 1346), (1347, 1350), (1351, 1352), (1352, 1353), (1353, 1355), (1355, 1358), (1359, 1363), (1364, 1368), (1369, 1372), (1373, 1376), (1377, 1386), (1387, 1389), (1390, 1393), (1394, 1399), (1400, 1403), (1404, 1409), (1410, 1413), (1413, 1415), (1415, 1418), (1418, 1419), (1420, 1422), (1423, 1428), (1429, 1434), (1435, 1437), (1437, 1439), (1439, 1442), (1443, 1446), (1447, 1450), (1451, 1457), (1458, 1460), (1461, 1464), (1465, 1471), (1472, 1480), (1481, 1484), (1485, 1488), (1488, 1489), (1489, 1493), (1493, 1494), (1494, 1497), (1498, 1500), (1500, 1503), (1503, 1504), (1505, 1506), (1506, 1509), (1509, 1511), (1512, 1514), (1515, 1518), (1519, 1522), (1523, 1528), (1529, 1533), (1533, 1534), (1535, 1542), (1543, 1546), (1547, 1550), (1551, 1556), (1557, 1561), (1561, 1562), (1562, 1563), (1564, 1574), (1575, 1582), (1583, 1585), (1586, 1594), (1595, 1603), (1604, 1613), (1614, 1618), (1619, 1622), (1623, 1626), (1627, 1628), (1628, 1629), (1629, 1631), (1631, 1634), (1635, 1640), (1640, 1641), (1642, 1645), (1645, 1647), (1648, 1651), (1651, 1654), (1655, 1656), (1656, 1659), (1659, 1660), (1660, 1661), (1661, 1664), (1664, 1665), (1665, 1666), (1666, 1667), (1668, 1671), (1672, 1677), (1678, 1682), (1682, 1683), (1683, 1684), (1685, 1690), (1691, 1698), (1699, 1702), (1703, 1712), (1713, 1715), (1716, 1718), (1718, 1720), (1720, 1723), (1723, 1724), (1725, 1729), (1730, 1737), (1738, 1740), (1741, 1750), (1751, 1754), (1755, 1756), (1756, 1757), (1757, 1759), (1759, 1762), (1763, 1767), (1767, 1768), (1769, 1774), (1775, 1778), (1779, 1781), (1782, 1789), (1790, 1798), (1798, 1799), (1800, 1802), (1803, 1806), (1806, 1807), (1807, 1808), (1809, 1812), (1813, 1816), (1816, 1818), (1818, 1821), (1822, 1825), (1826, 1833), (1834, 1842), (1843, 1849), (1850, 1859), (1860, 1868), (1869, 1872), (1873, 1874), (1874, 1875), (1875, 1877), (1877, 1880), (1881, 1885), (1885, 1886), (1886, 1887), (1888, 1894), (1895, 1899), (1900, 1901), (1901, 1904), (1904, 1905), (1906, 1912), (1913, 1914), (1915, 1923), (1924, 1935), (1936, 1939), (1940, 1947), (1947, 1948), (1949, 1958), (1959, 1965), (1966, 1970), (1971, 1973), (1974, 1978), (1979, 1982), (1983, 1984), (1984, 1991), (1992, 1996), (1997, 2002), (2003, 2010), (2011, 2012), (2013, 2024), (2025, 2029), (2030, 2032), (2033, 2040), (2041, 2048), (2048, 2049), (2050, 2054), (2055, 2059), (2060, 2062), (2063, 2066), (2067, 2075), (2076, 2079), (0, 0)], [(0, 0), (0, 4), (5, 9), (10, 13), (14, 16), (16, 18), (18, 21), (22, 29), (30, 39), (39, 40), (40, 41), (0, 0), (1515, 1518), (1519, 1522), (1523, 1528), (1529, 1533), (1533, 1534), (1535, 1542), (1543, 1546), (1547, 1550), (1551, 1556), (1557, 1561), (1561, 1562), (1562, 1563), (1564, 1574), (1575, 1582), (1583, 1585), (1586, 1594), (1595, 1603), (1604, 1613), (1614, 1618), (1619, 1622), (1623, 1626), (1627, 1628), (1628, 1629), (1629, 1631), (1631, 1634), (1635, 1640), (1640, 1641), (1642, 1645), (1645, 1647), (1648, 1651), (1651, 1654), (1655, 1656), (1656, 1659), (1659, 1660), (1660, 1661), (1661, 1664), (1664, 1665), (1665, 1666), (1666, 1667), (1668, 1671), (1672, 1677), (1678, 1682), (1682, 1683), (1683, 1684), (1685, 1690), (1691, 1698), (1699, 1702), (1703, 1712), (1713, 1715), (1716, 1718), (1718, 1720), (1720, 1723), (1723, 1724), (1725, 1729), (1730, 1737), (1738, 1740), (1741, 1750), (1751, 1754), (1755, 1756), (1756, 1757), (1757, 1759), (1759, 1762), (1763, 1767), (1767, 1768), (1769, 1774), (1775, 1778), (1779, 1781), (1782, 1789), (1790, 1798), (1798, 1799), (1800, 1802), (1803, 1806), (1806, 1807), (1807, 1808), (1809, 1812), (1813, 1816), (1816, 1818), (1818, 1821), (1822, 1825), (1826, 1833), (1834, 1842), (1843, 1849), (1850, 1859), (1860, 1868), (1869, 1872), (1873, 1874), (1874, 1875), (1875, 1877), (1877, 1880), (1881, 1885), (1885, 1886), (1886, 1887), (1888, 1894), (1895, 1899), (1900, 1901), (1901, 1904), (1904, 1905), (1906, 1912), (1913, 1914), (1915, 1923), (1924, 1935), (1936, 1939), (1940, 1947), (1947, 1948), (1949, 1958), (1959, 1965), (1966, 1970), (1971, 1973), (1974, 1978), (1979, 1982), (1983, 1984), (1984, 1991), (1992, 1996), (1997, 2002), (2003, 2010), (2011, 2012), (2013, 2024), (2025, 2029), (2030, 2032), (2033, 2040), (2041, 2048), (2048, 2049), (2050, 2054), (2055, 2059), (2060, 2062), (2063, 2066), (2067, 2075), (2076, 2079), (2080, 2082), (2083, 2086), (2087, 2092), (2093, 2097), (2097, 2098), (2098, 2099), (0, 0)]]\n"
     ]
    }
   ],
   "source": [
    "tokenized_example = tokenizer(\n",
    "    example[\"question\"],\n",
    "    example[\"context\"],\n",
    "    max_length=max_length,\n",
    "    truncation=\"only_second\",\n",
    "    return_overflowing_tokens=True,\n",
    "    return_offsets_mapping=True,\n",
    "    stride=doc_stride\n",
    ")\n",
    "print(tokenized_example[\"offset_mapping\"])"
   ]
  },
  {
   "cell_type": "markdown",
   "metadata": {},
   "source": [
    "因此，我们可以使用这个映射来找到答案在给定特征中的起始和结束标记的位置。\n",
    "\n",
    "我们只需区分偏移的哪些部分对应于问题，哪些部分对应于上下文。"
   ]
  },
  {
   "cell_type": "code",
   "execution_count": 57,
   "metadata": {},
   "outputs": [
    {
     "name": "stdout",
     "output_type": "stream",
     "text": [
      "when When\n"
     ]
    }
   ],
   "source": [
    "first_token_id = tokenized_example[\"input_ids\"][0][1]\n",
    "offsets = tokenized_example[\"offset_mapping\"][0][1]\n",
    "print(tokenizer.decode([first_token_id]), example[\"question\"][offsets[0]:offsets[1]])"
   ]
  },
  {
   "cell_type": "code",
   "execution_count": 59,
   "metadata": {},
   "outputs": [
    {
     "name": "stdout",
     "output_type": "stream",
     "text": [
      "were were\n"
     ]
    }
   ],
   "source": [
    "second_token_id = tokenized_example[\"input_ids\"][0][2]\n",
    "offsets = tokenized_example[\"offset_mapping\"][0][2]\n",
    "print(tokenizer.decode([second_token_id]), example[\"question\"][offsets[0]:offsets[1]])"
   ]
  },
  {
   "cell_type": "code",
   "execution_count": 60,
   "metadata": {},
   "outputs": [
    {
     "data": {
      "text/plain": [
       "'When were the Rinbung princes overthrown?'"
      ]
     },
     "execution_count": 60,
     "metadata": {},
     "output_type": "execute_result"
    }
   ],
   "source": [
    "example[\"question\"]"
   ]
  },
  {
   "cell_type": "markdown",
   "metadata": {},
   "source": [
    "借助`tokenized_example`的`sequence_ids`方法，我们可以方便的区分token的来源编号：\n",
    "\n",
    "- 对于特殊标记：返回None，\n",
    "- 对于正文Token：返回句子编号（从0开始编号）。\n",
    "\n",
    "综上，现在我们可以很方便的在一个输入特征中找到答案的起始和结束 Token。"
   ]
  },
  {
   "cell_type": "code",
   "execution_count": 75,
   "metadata": {},
   "outputs": [
    {
     "ename": "KeyError",
     "evalue": "'start_position'",
     "output_type": "error",
     "traceback": [
      "\u001b[0;31m---------------------------------------------------------------------------\u001b[0m",
      "\u001b[0;31mKeyError\u001b[0m                                  Traceback (most recent call last)",
      "Cell \u001b[0;32mIn[75], line 1\u001b[0m\n\u001b[0;32m----> 1\u001b[0m \u001b[43mtokenized_example\u001b[49m\u001b[43m[\u001b[49m\u001b[38;5;124;43m\"\u001b[39;49m\u001b[38;5;124;43mstart_position\u001b[39;49m\u001b[38;5;124;43m\"\u001b[39;49m\u001b[43m]\u001b[49m\n",
      "File \u001b[0;32m~/anaconda3/envs/peft/lib/python3.10/site-packages/transformers/tokenization_utils_base.py:253\u001b[0m, in \u001b[0;36mBatchEncoding.__getitem__\u001b[0;34m(self, item)\u001b[0m\n\u001b[1;32m    243\u001b[0m \u001b[38;5;250m\u001b[39m\u001b[38;5;124;03m\"\"\"\u001b[39;00m\n\u001b[1;32m    244\u001b[0m \u001b[38;5;124;03mIf the key is a string, returns the value of the dict associated to `key` ('input_ids', 'attention_mask',\u001b[39;00m\n\u001b[1;32m    245\u001b[0m \u001b[38;5;124;03metc.).\u001b[39;00m\n\u001b[0;32m   (...)\u001b[0m\n\u001b[1;32m    250\u001b[0m \u001b[38;5;124;03mwith the constraint of slice.\u001b[39;00m\n\u001b[1;32m    251\u001b[0m \u001b[38;5;124;03m\"\"\"\u001b[39;00m\n\u001b[1;32m    252\u001b[0m \u001b[38;5;28;01mif\u001b[39;00m \u001b[38;5;28misinstance\u001b[39m(item, \u001b[38;5;28mstr\u001b[39m):\n\u001b[0;32m--> 253\u001b[0m     \u001b[38;5;28;01mreturn\u001b[39;00m \u001b[38;5;28;43mself\u001b[39;49m\u001b[38;5;241;43m.\u001b[39;49m\u001b[43mdata\u001b[49m\u001b[43m[\u001b[49m\u001b[43mitem\u001b[49m\u001b[43m]\u001b[49m\n\u001b[1;32m    254\u001b[0m \u001b[38;5;28;01melif\u001b[39;00m \u001b[38;5;28mself\u001b[39m\u001b[38;5;241m.\u001b[39m_encodings \u001b[38;5;129;01mis\u001b[39;00m \u001b[38;5;129;01mnot\u001b[39;00m \u001b[38;5;28;01mNone\u001b[39;00m:\n\u001b[1;32m    255\u001b[0m     \u001b[38;5;28;01mreturn\u001b[39;00m \u001b[38;5;28mself\u001b[39m\u001b[38;5;241m.\u001b[39m_encodings[item]\n",
      "\u001b[0;31mKeyError\u001b[0m: 'start_position'"
     ]
    }
   ],
   "source": [
    "tokenized_example[\"start_position\"]"
   ]
  },
  {
   "cell_type": "code",
   "execution_count": 64,
   "metadata": {
    "collapsed": true,
    "jupyter": {
     "outputs_hidden": true,
     "source_hidden": true
    }
   },
   "outputs": [
    {
     "name": "stdout",
     "output_type": "stream",
     "text": [
      "3 7\n",
      "12 510\n",
      "[(0, 0), (0, 4), (5, 9), (10, 13), (14, 16), (16, 18), (18, 21), (22, 29), (30, 39), (39, 40), (40, 41), (0, 0), (0, 2), (3, 6), (6, 7), (7, 8), (9, 12), (13, 21), (22, 24), (24, 26), (26, 29), (30, 37), (38, 42), (43, 52), (52, 53), (54, 56), (57, 60), (61, 63), (64, 69), (70, 73), (74, 83), (83, 84), (85, 90), (91, 93), (93, 96), (96, 97), (98, 101), (102, 108), (109, 116), (117, 119), (120, 123), (124, 126), (126, 129), (129, 131), (131, 132), (133, 134), (134, 137), (138, 141), (142, 144), (145, 147), (147, 150), (150, 151), (151, 152), (153, 156), (157, 168), (169, 172), (173, 177), (178, 180), (181, 186), (187, 189), (190, 193), (193, 196), (196, 198), (198, 199), (200, 203), (204, 210), (211, 220), (221, 223), (224, 228), (229, 234), (235, 237), (237, 240), (241, 245), (245, 246), (247, 252), (253, 255), (255, 258), (258, 260), (260, 261), (262, 265), (265, 267), (267, 269), (269, 270), (271, 275), (276, 283), (284, 286), (287, 290), (291, 296), (297, 299), (300, 307), (308, 313), (314, 315), (315, 316), (316, 317), (317, 319), (319, 322), (322, 323), (323, 324), (325, 333), (334, 338), (339, 343), (343, 344), (344, 348), (348, 349), (350, 357), (358, 362), (362, 363), (364, 367), (368, 375), (376, 378), (379, 380), (380, 383), (383, 384), (385, 390), (391, 398), (399, 404), (405, 415), (416, 418), (419, 422), (423, 425), (425, 427), (427, 429), (429, 431), (431, 432), (433, 435), (436, 440), (441, 443), (444, 447), (448, 451), (451, 453), (453, 454), (455, 460), (461, 464), (465, 466), (466, 467), (467, 469), (469, 472), (473, 477), (478, 484), (485, 489), (490, 493), (494, 499), (499, 501), (501, 502), (503, 511), (512, 516), (517, 524), (525, 528), (529, 540), (540, 542), (543, 544), (544, 545), (545, 547), (547, 550), (551, 556), (557, 560), (561, 564), (565, 572), (573, 576), (577, 586), (586, 588), (589, 594), (595, 601), (602, 607), (608, 612), (613, 615), (616, 617), (617, 620), (620, 621), (621, 622), (623, 626), (627, 633), (634, 639), (640, 644), (645, 652), (653, 655), (656, 660), (661, 663), (664, 672), (673, 675), (676, 679), (680, 681), (681, 682), (682, 684), (684, 687), (688, 692), (692, 693), (694, 699), (700, 707), (708, 709), (710, 718), (719, 721), (722, 725), (726, 732), (733, 738), (739, 746), (746, 749), (750, 753), (753, 755), (756, 767), (767, 768), (769, 773), (774, 780), (781, 783), (784, 787), (788, 799), (800, 804), (805, 808), (809, 815), (816, 821), (822, 826), (826, 827), (827, 828), (829, 839), (840, 845), (846, 849), (850, 853), (854, 858), (859, 861), (862, 865), (866, 867), (867, 868), (868, 870), (870, 873), (874, 878), (879, 881), (882, 886), (887, 890), (891, 899), (900, 903), (904, 905), (905, 912), (912, 913), (914, 917), (918, 922), (923, 930), (930, 931), (932, 940), (941, 945), (946, 952), (953, 957), (958, 961), (962, 968), (969, 972), (973, 977), (978, 984), (985, 988), (989, 995), (996, 998), (999, 1000), (1001, 1007), (1008, 1013), (1014, 1022), (1022, 1023), (1024, 1026), (1027, 1031), (1031, 1032), (1033, 1037), (1038, 1041), (1042, 1047), (1048, 1053), (1054, 1056), (1056, 1059), (1059, 1060), (1061, 1062), (1062, 1065), (1065, 1067), (1068, 1072), (1072, 1073), (1074, 1077), (1078, 1081), (1081, 1083), (1084, 1087), (1088, 1091), (1092, 1097), (1098, 1100), (1100, 1103), (1103, 1104), (1105, 1109), (1110, 1112), (1113, 1116), (1116, 1117), (1118, 1121), (1122, 1127), (1128, 1130), (1130, 1133), (1133, 1134), (1135, 1144), (1145, 1147), (1148, 1151), (1152, 1159), (1160, 1161), (1161, 1162), (1162, 1164), (1164, 1167), (1168, 1172), (1172, 1173), (1174, 1177), (1178, 1179), (1179, 1180), (1180, 1182), (1182, 1185), (1186, 1191), (1192, 1195), (1196, 1197), (1198, 1203), (1204, 1210), (1211, 1213), (1214, 1217), (1217, 1219), (1219, 1221), (1222, 1226), (1226, 1227), (1228, 1234), (1234, 1235), (1236, 1244), (1245, 1250), (1251, 1262), (1263, 1265), (1266, 1268), (1268, 1270), (1270, 1273), (1274, 1277), (1278, 1282), (1282, 1283), (1284, 1287), (1288, 1296), (1297, 1300), (1301, 1309), (1310, 1312), (1313, 1317), (1318, 1325), (1326, 1331), (1332, 1336), (1336, 1337), (1338, 1340), (1341, 1345), (1345, 1346), (1347, 1350), (1351, 1352), (1352, 1353), (1353, 1355), (1355, 1358), (1359, 1363), (1364, 1368), (1369, 1372), (1373, 1376), (1377, 1386), (1387, 1389), (1390, 1393), (1394, 1399), (1400, 1403), (1404, 1409), (1410, 1413), (1413, 1415), (1415, 1418), (1418, 1419), (1420, 1422), (1423, 1428), (1429, 1434), (1435, 1437), (1437, 1439), (1439, 1442), (1443, 1446), (1447, 1450), (1451, 1457), (1458, 1460), (1461, 1464), (1465, 1471), (1472, 1480), (1481, 1484), (1485, 1488), (1488, 1489), (1489, 1493), (1493, 1494), (1494, 1497), (1498, 1500), (1500, 1503), (1503, 1504), (1505, 1506), (1506, 1509), (1509, 1511), (1512, 1514), (1515, 1518), (1519, 1522), (1523, 1528), (1529, 1533), (1533, 1534), (1535, 1542), (1543, 1546), (1547, 1550), (1551, 1556), (1557, 1561), (1561, 1562), (1562, 1563), (1564, 1574), (1575, 1582), (1583, 1585), (1586, 1594), (1595, 1603), (1604, 1613), (1614, 1618), (1619, 1622), (1623, 1626), (1627, 1628), (1628, 1629), (1629, 1631), (1631, 1634), (1635, 1640), (1640, 1641), (1642, 1645), (1645, 1647), (1648, 1651), (1651, 1654), (1655, 1656), (1656, 1659), (1659, 1660), (1660, 1661), (1661, 1664), (1664, 1665), (1665, 1666), (1666, 1667), (1668, 1671), (1672, 1677), (1678, 1682), (1682, 1683), (1683, 1684), (1685, 1690), (1691, 1698), (1699, 1702), (1703, 1712), (1713, 1715), (1716, 1718), (1718, 1720), (1720, 1723), (1723, 1724), (1725, 1729), (1730, 1737), (1738, 1740), (1741, 1750), (1751, 1754), (1755, 1756), (1756, 1757), (1757, 1759), (1759, 1762), (1763, 1767), (1767, 1768), (1769, 1774), (1775, 1778), (1779, 1781), (1782, 1789), (1790, 1798), (1798, 1799), (1800, 1802), (1803, 1806), (1806, 1807), (1807, 1808), (1809, 1812), (1813, 1816), (1816, 1818), (1818, 1821), (1822, 1825), (1826, 1833), (1834, 1842), (1843, 1849), (1850, 1859), (1860, 1868), (1869, 1872), (1873, 1874), (1874, 1875), (1875, 1877), (1877, 1880), (1881, 1885), (1885, 1886), (1886, 1887), (1888, 1894), (1895, 1899), (1900, 1901), (1901, 1904), (1904, 1905), (1906, 1912), (1913, 1914), (1915, 1923), (1924, 1935), (1936, 1939), (1940, 1947), (1947, 1948), (1949, 1958), (1959, 1965), (1966, 1970), (1971, 1973), (1974, 1978), (1979, 1982), (1983, 1984), (1984, 1991), (1992, 1996), (1997, 2002), (2003, 2010), (2011, 2012), (2013, 2024), (2025, 2029), (2030, 2032), (2033, 2040), (2041, 2048), (2048, 2049), (2050, 2054), (2055, 2059), (2060, 2062), (2063, 2066), (2067, 2075), (2076, 2079), (0, 0)]\n",
      "13 14\n"
     ]
    }
   ],
   "source": [
    "answers = example[\"answers\"]\n",
    "start_char = answers[\"answer_start\"][0]\n",
    "end_char = start_char + len(answers[\"text\"][0])\n",
    "print(start_char, end_char)\n",
    "\n",
    "# 当前span在文本中的起始标记索引。\n",
    "token_start_index = 0\n",
    "while sequence_ids[token_start_index] != 1:\n",
    "    token_start_index += 1\n",
    "\n",
    "# 当前span在文本中的结束标记索引。\n",
    "token_end_index = len(tokenized_example[\"input_ids\"][0]) - 1\n",
    "while sequence_ids[token_end_index] != 1:\n",
    "    token_end_index -= 1\n",
    "print(token_start_index, token_end_index)\n",
    "\n",
    "# 检测答案是否超出span范围（如果超出范围，该特征将以CLS标记索引标记）。\n",
    "offsets = tokenized_example[\"offset_mapping\"][0]\n",
    "print(offsets)\n",
    "if (offsets[token_start_index][0] <= start_char and offsets[token_end_index][1] >= end_char):\n",
    "    # 将token_start_index和token_end_index移动到答案的两端。\n",
    "    # 注意：如果答案是最后一个单词，我们可以移到最后一个标记之后（边界情况）。\n",
    "    while token_start_index < len(offsets) and offsets[token_start_index][0] <= start_char:\n",
    "        token_start_index += 1\n",
    "    start_position = token_start_index - 1\n",
    "    while offsets[token_end_index][1] >= end_char:\n",
    "        token_end_index -= 1\n",
    "    end_position = token_end_index + 1\n",
    "    print(start_position, end_position)\n",
    "else:\n",
    "    print(\"答案不在此特征中。\")\n"
   ]
  },
  {
   "cell_type": "markdown",
   "metadata": {},
   "source": [
    "打印检查是否准确找到了起始位置："
   ]
  },
  {
   "cell_type": "code",
   "execution_count": 65,
   "metadata": {},
   "outputs": [
    {
     "name": "stdout",
     "output_type": "stream",
     "text": [
      "1565\n",
      "1565\n"
     ]
    }
   ],
   "source": [
    "# 通过查找 offset mapping 位置，解码 context 中的答案 \n",
    "print(tokenizer.decode(tokenized_example[\"input_ids\"][0][start_position: end_position+1]))\n",
    "# 直接打印 数据集中的标准答案（answer[\"text\"])\n",
    "print(answers[\"text\"][0])"
   ]
  },
  {
   "cell_type": "markdown",
   "metadata": {},
   "source": [
    "#### 关于填充的策略\n",
    "\n",
    "- 对于没有超过最大长度的文本，填充补齐长度。\n",
    "- 对于需要左侧填充的模型，交换 question 和 context 顺序"
   ]
  },
  {
   "cell_type": "code",
   "execution_count": 7,
   "metadata": {},
   "outputs": [],
   "source": [
    "pad_on_right = tokenizer.padding_side == \"right\""
   ]
  },
  {
   "cell_type": "markdown",
   "metadata": {},
   "source": [
    "### 整合以上所有预处理步骤\n",
    "\n",
    "让我们将所有内容整合到一个函数中，并将其应用到训练集。\n",
    "\n",
    "针对不可回答的情况（上下文过长，答案在另一个特征中），我们为开始和结束位置都设置了cls索引。\n",
    "\n",
    "如果allow_impossible_answers标志为False，我们还可以简单地从训练集中丢弃这些示例。"
   ]
  },
  {
   "cell_type": "code",
   "execution_count": 8,
   "metadata": {},
   "outputs": [],
   "source": [
    "def prepare_train_features(examples):\n",
    "    # 一些问题的左侧可能有很多空白字符，这对我们没有用，而且会导致上下文的截断失败\n",
    "    # （标记化的问题将占用大量空间）。因此，我们删除左侧的空白字符。\n",
    "    examples[\"question\"] = [q.lstrip() for q in examples[\"question\"]]\n",
    "\n",
    "    # 使用截断和填充对我们的示例进行标记化，但保留溢出部分，使用步幅（stride）。\n",
    "    # 当上下文很长时，这会导致一个示例可能提供多个特征，其中每个特征的上下文都与前一个特征的上下文有一些重叠。\n",
    "    tokenized_examples = tokenizer(\n",
    "        examples[\"question\" if pad_on_right else \"context\"],\n",
    "        examples[\"context\" if pad_on_right else \"question\"],\n",
    "        truncation=\"only_second\" if pad_on_right else \"only_first\",\n",
    "        max_length=max_length,\n",
    "        stride=doc_stride,\n",
    "        return_overflowing_tokens=True,\n",
    "        return_offsets_mapping=True,\n",
    "        padding=\"max_length\",\n",
    "    )\n",
    "\n",
    "    # 由于一个示例可能给我们提供多个特征（如果它具有很长的上下文），我们需要一个从特征到其对应示例的映射。这个键就提供了这个映射关系。\n",
    "    sample_mapping = tokenized_examples.pop(\"overflow_to_sample_mapping\")\n",
    "    # 偏移映射将为我们提供从令牌到原始上下文中的字符位置的映射。这将帮助我们计算开始位置和结束位置。\n",
    "    offset_mapping = tokenized_examples.pop(\"offset_mapping\")\n",
    "\n",
    "    # 让我们为这些示例进行标记！\n",
    "    tokenized_examples[\"start_positions\"] = []\n",
    "    tokenized_examples[\"end_positions\"] = []\n",
    "\n",
    "    for i, offsets in enumerate(offset_mapping):\n",
    "        # 我们将使用 CLS 特殊 token 的索引来标记不可能的答案。\n",
    "        input_ids = tokenized_examples[\"input_ids\"][i]\n",
    "        cls_index = input_ids.index(tokenizer.cls_token_id)\n",
    "\n",
    "        # 获取与该示例对应的序列（以了解上下文和问题是什么）。\n",
    "        sequence_ids = tokenized_examples.sequence_ids(i)\n",
    "\n",
    "        # 一个示例可以提供多个跨度，这是包含此文本跨度的示例的索引。\n",
    "        sample_index = sample_mapping[i]\n",
    "        answers = examples[\"answers\"][sample_index]\n",
    "        # 如果没有给出答案，则将cls_index设置为答案。\n",
    "        if len(answers[\"answer_start\"]) == 0:\n",
    "            tokenized_examples[\"start_positions\"].append(cls_index)\n",
    "            tokenized_examples[\"end_positions\"].append(cls_index)\n",
    "        else:\n",
    "            # 答案在文本中的开始和结束字符索引。\n",
    "            start_char = answers[\"answer_start\"][0]\n",
    "            end_char = start_char + len(answers[\"text\"][0])\n",
    "\n",
    "            # 当前跨度在文本中的开始令牌索引。\n",
    "            token_start_index = 0\n",
    "            while sequence_ids[token_start_index] != (1 if pad_on_right else 0):\n",
    "                token_start_index += 1\n",
    "\n",
    "            # 当前跨度在文本中的结束令牌索引。\n",
    "            token_end_index = len(input_ids) - 1\n",
    "            while sequence_ids[token_end_index] != (1 if pad_on_right else 0):\n",
    "                token_end_index -= 1\n",
    "\n",
    "            # 检测答案是否超出跨度（在这种情况下，该特征的标签将使用CLS索引）。\n",
    "            if not (offsets[token_start_index][0] <= start_char and offsets[token_end_index][1] >= end_char):\n",
    "                tokenized_examples[\"start_positions\"].append(cls_index)\n",
    "                tokenized_examples[\"end_positions\"].append(cls_index)\n",
    "            else:\n",
    "                # 否则，将token_start_index和token_end_index移到答案的两端。\n",
    "                # 注意：如果答案是最后一个单词（边缘情况），我们可以在最后一个偏移之后继续。\n",
    "                while token_start_index < len(offsets) and offsets[token_start_index][0] <= start_char:\n",
    "                    token_start_index += 1\n",
    "                tokenized_examples[\"start_positions\"].append(token_start_index - 1)\n",
    "                while offsets[token_end_index][1] >= end_char:\n",
    "                    token_end_index -= 1\n",
    "                tokenized_examples[\"end_positions\"].append(token_end_index + 1)\n",
    "\n",
    "    return tokenized_examples"
   ]
  },
  {
   "cell_type": "markdown",
   "metadata": {
    "id": "zS-6iXTkIrJT"
   },
   "source": [
    "#### datasets.map 的进阶使用\n",
    "\n",
    "使用 `datasets.map` 方法将 `prepare_train_features` 应用于所有训练、验证和测试数据：\n",
    "\n",
    "- batched: 批量处理数据。\n",
    "- remove_columns: 因为预处理更改了样本的数量，所以在应用它时需要删除旧列。\n",
    "- load_from_cache_file：是否使用datasets库的自动缓存\n",
    "\n",
    "datasets 库针对大规模数据，实现了高效缓存机制，能够自动检测传递给 map 的函数是否已更改（因此需要不使用缓存数据）。如果在调用 map 时设置 `load_from_cache_file=False`，可以强制重新应用预处理。"
   ]
  },
  {
   "cell_type": "code",
   "execution_count": 9,
   "metadata": {
    "id": "DDtsaJeVIrJT",
    "outputId": "aa4734bf-4ef5-4437-9948-2c16363da719"
   },
   "outputs": [
    {
     "name": "stderr",
     "output_type": "stream",
     "text": [
      "Map: 100%|██████████| 10570/10570 [00:02<00:00, 3949.65 examples/s]\n"
     ]
    }
   ],
   "source": [
    "tokenized_datasets = datasets.map(prepare_train_features,\n",
    "                                  batched=True,\n",
    "                                  remove_columns=datasets[\"train\"].column_names)"
   ]
  },
  {
   "cell_type": "code",
   "execution_count": 10,
   "metadata": {},
   "outputs": [
    {
     "data": {
      "text/plain": [
       "DatasetDict({\n",
       "    train: Dataset({\n",
       "        features: ['input_ids', 'attention_mask', 'start_positions', 'end_positions'],\n",
       "        num_rows: 87714\n",
       "    })\n",
       "    validation: Dataset({\n",
       "        features: ['input_ids', 'attention_mask', 'start_positions', 'end_positions'],\n",
       "        num_rows: 10626\n",
       "    })\n",
       "})"
      ]
     },
     "execution_count": 10,
     "metadata": {},
     "output_type": "execute_result"
    }
   ],
   "source": [
    "tokenized_datasets"
   ]
  },
  {
   "cell_type": "markdown",
   "metadata": {
    "id": "545PP3o8IrJV"
   },
   "source": [
    "## 微调模型"
   ]
  },
  {
   "cell_type": "markdown",
   "metadata": {
    "id": "FBiW8UpKIrJW"
   },
   "source": [
    "现在我们的数据已经准备好用于训练，我们可以下载预训练模型并进行微调。\n",
    "\n",
    "由于我们的任务是问答，我们使用 `AutoModelForQuestionAnswering` 类。(对比 Yelp 评论打分使用的是 `AutoModelForSequenceClassification` 类）\n",
    "\n",
    "警告通知我们正在丢弃一些权重（`vocab_transform` 和 `vocab_layer_norm` 层），并随机初始化其他一些权重（`pre_classifier` 和 `classifier` 层）。在微调模型情况下是绝对正常的，因为我们正在删除用于预训练模型的掩码语言建模任务的头部，并用一个新的头部替换它，对于这个新头部，我们没有预训练的权重，所以库会警告我们在用它进行推理之前应该对这个模型进行微调，而这正是我们要做的事情。"
   ]
  },
  {
   "cell_type": "code",
   "execution_count": 11,
   "metadata": {
    "id": "TlqNaB8jIrJW",
    "outputId": "84916cf3-6e6c-47f3-d081-032ec30a4132"
   },
   "outputs": [
    {
     "name": "stderr",
     "output_type": "stream",
     "text": [
      "/home/imdl/anaconda3/envs/peft/lib/python3.10/site-packages/huggingface_hub/file_download.py:1150: FutureWarning: `resume_download` is deprecated and will be removed in version 1.0.0. Downloads always resume when possible. If you want to force a new download, use `force_download=True`.\n",
      "  warnings.warn(\n",
      "Some weights of DistilBertForQuestionAnswering were not initialized from the model checkpoint at distilbert-base-uncased and are newly initialized: ['qa_outputs.bias', 'qa_outputs.weight']\n",
      "You should probably TRAIN this model on a down-stream task to be able to use it for predictions and inference.\n"
     ]
    }
   ],
   "source": [
    "from transformers import AutoModelForQuestionAnswering, TrainingArguments, Trainer\n",
    "\n",
    "model = AutoModelForQuestionAnswering.from_pretrained(model_checkpoint)"
   ]
  },
  {
   "cell_type": "code",
   "execution_count": 12,
   "metadata": {
    "collapsed": true,
    "jupyter": {
     "outputs_hidden": true
    }
   },
   "outputs": [
    {
     "data": {
      "text/plain": [
       "DistilBertForQuestionAnswering(\n",
       "  (distilbert): DistilBertModel(\n",
       "    (embeddings): Embeddings(\n",
       "      (word_embeddings): Embedding(30522, 768, padding_idx=0)\n",
       "      (position_embeddings): Embedding(512, 768)\n",
       "      (LayerNorm): LayerNorm((768,), eps=1e-12, elementwise_affine=True)\n",
       "      (dropout): Dropout(p=0.1, inplace=False)\n",
       "    )\n",
       "    (transformer): Transformer(\n",
       "      (layer): ModuleList(\n",
       "        (0-5): 6 x TransformerBlock(\n",
       "          (attention): MultiHeadSelfAttention(\n",
       "            (dropout): Dropout(p=0.1, inplace=False)\n",
       "            (q_lin): Linear(in_features=768, out_features=768, bias=True)\n",
       "            (k_lin): Linear(in_features=768, out_features=768, bias=True)\n",
       "            (v_lin): Linear(in_features=768, out_features=768, bias=True)\n",
       "            (out_lin): Linear(in_features=768, out_features=768, bias=True)\n",
       "          )\n",
       "          (sa_layer_norm): LayerNorm((768,), eps=1e-12, elementwise_affine=True)\n",
       "          (ffn): FFN(\n",
       "            (dropout): Dropout(p=0.1, inplace=False)\n",
       "            (lin1): Linear(in_features=768, out_features=3072, bias=True)\n",
       "            (lin2): Linear(in_features=3072, out_features=768, bias=True)\n",
       "            (activation): GELUActivation()\n",
       "          )\n",
       "          (output_layer_norm): LayerNorm((768,), eps=1e-12, elementwise_affine=True)\n",
       "        )\n",
       "      )\n",
       "    )\n",
       "  )\n",
       "  (qa_outputs): Linear(in_features=768, out_features=2, bias=True)\n",
       "  (dropout): Dropout(p=0.1, inplace=False)\n",
       ")"
      ]
     },
     "execution_count": 12,
     "metadata": {},
     "output_type": "execute_result"
    }
   ],
   "source": [
    "model"
   ]
  },
  {
   "cell_type": "markdown",
   "metadata": {
    "id": "_N8urzhyIrJY"
   },
   "source": [
    "#### 训练超参数（TrainingArguments）"
   ]
  },
  {
   "cell_type": "code",
   "execution_count": 12,
   "metadata": {
    "id": "Bliy8zgjIrJY"
   },
   "outputs": [],
   "source": [
    "batch_size=64\n",
    "model_dir = f\"models/{model_checkpoint}-finetuned-squad\"\n",
    "\n",
    "args = TrainingArguments(\n",
    "    output_dir=model_dir,\n",
    "    evaluation_strategy = \"epoch\",\n",
    "    learning_rate=2e-5,\n",
    "    per_device_train_batch_size=batch_size,\n",
    "    per_device_eval_batch_size=batch_size,\n",
    "    num_train_epochs=3,\n",
    "    weight_decay=0.01,\n",
    ")"
   ]
  },
  {
   "cell_type": "markdown",
   "metadata": {},
   "source": [
    "#### Data Collator（数据整理器）\n",
    "\n",
    "数据整理器将训练数据整理为批次数据，用于模型训练时的批次处理。本教程使用默认的 `default_data_collator`。\n"
   ]
  },
  {
   "cell_type": "code",
   "execution_count": 13,
   "metadata": {},
   "outputs": [],
   "source": [
    "from transformers import default_data_collator\n",
    "\n",
    "data_collator = default_data_collator"
   ]
  },
  {
   "cell_type": "markdown",
   "metadata": {
    "id": "rXuFTAzDIrJe"
   },
   "source": [
    "### 实例化训练器（Trainer）\n",
    "\n",
    "为了减少训练时间（需要大量算力支持），我们不在本教程的训练模型过程中计算模型评估指标。\n",
    "\n",
    "而是训练完成后，再独立进行模型评估。"
   ]
  },
  {
   "cell_type": "code",
   "execution_count": 14,
   "metadata": {
    "id": "imY1oC3SIrJf"
   },
   "outputs": [],
   "source": [
    "trainer = Trainer(\n",
    "    model,\n",
    "    args,\n",
    "    train_dataset=tokenized_datasets[\"train\"],\n",
    "    eval_dataset=tokenized_datasets[\"validation\"],\n",
    "    data_collator=data_collator,\n",
    "    tokenizer=tokenizer,\n",
    ")"
   ]
  },
  {
   "cell_type": "markdown",
   "metadata": {
    "jupyter": {
     "source_hidden": true
    }
   },
   "source": [
    "#### GPU 使用情况\n",
    "\n",
    "训练数据与模型配置：\n",
    "\n",
    "- SQUAD v1.1\n",
    "- model_checkpoint = \"distilbert-base-uncased\"\n",
    "- batch_size = 64\n",
    "\n",
    "NVIDIA GPU 使用情况：\n",
    "\n",
    "```shell\n",
    "Every 1.0s: nvidia-smi                                                   Wed Dec 20 15:39:57 2023\n",
    "\n",
    "Wed Dec 20 15:39:57 2023\n",
    "+---------------------------------------------------------------------------------------+\n",
    "| NVIDIA-SMI 535.129.03             Driver Version: 535.129.03   CUDA Version: 12.2     |\n",
    "|-----------------------------------------+----------------------+----------------------+\n",
    "| GPU  Name                 Persistence-M | Bus-Id        Disp.A | Volatile Uncorr. ECC |\n",
    "| Fan  Temp   Perf          Pwr:Usage/Cap |         Memory-Usage | GPU-Util  Compute M. |\n",
    "|                                         |                      |               MIG M. |\n",
    "|=========================================+======================+======================|\n",
    "|   0  Tesla T4                       Off | 00000000:00:0D.0 Off |                    0 |\n",
    "| N/A   67C    P0              67W /  70W |  14617MiB / 15360MiB |    100%      Default |\n",
    "|                                         |                      |                  N/A |\n",
    "+-----------------------------------------+----------------------+----------------------+\n",
    "\n",
    "+---------------------------------------------------------------------------------------+\n",
    "| Processes:                                                                            |\n",
    "|  GPU   GI   CI        PID   Type   Process name                            GPU Memory |\n",
    "|        ID   ID                                                             Usage      |\n",
    "|=======================================================================================|\n",
    "|    0   N/A  N/A     16384      C   /root/miniconda3/bin/python               14612MiB |\n",
    "+---------------------------------------------------------------------------------------+\n",
    "```"
   ]
  },
  {
   "cell_type": "code",
   "execution_count": 15,
   "metadata": {
    "id": "uNx5pyRlIrJh",
    "outputId": "077e661e-d36c-469b-89b8-7ff7f73541ec"
   },
   "outputs": [
    {
     "data": {
      "text/html": [
       "\n",
       "    <div>\n",
       "      \n",
       "      <progress value='4113' max='4113' style='width:300px; height:20px; vertical-align: middle;'></progress>\n",
       "      [4113/4113 30:27, Epoch 3/3]\n",
       "    </div>\n",
       "    <table border=\"1\" class=\"dataframe\">\n",
       "  <thead>\n",
       " <tr style=\"text-align: left;\">\n",
       "      <th>Epoch</th>\n",
       "      <th>Training Loss</th>\n",
       "      <th>Validation Loss</th>\n",
       "    </tr>\n",
       "  </thead>\n",
       "  <tbody>\n",
       "    <tr>\n",
       "      <td>1</td>\n",
       "      <td>1.505500</td>\n",
       "      <td>1.260532</td>\n",
       "    </tr>\n",
       "    <tr>\n",
       "      <td>2</td>\n",
       "      <td>1.138000</td>\n",
       "      <td>1.171047</td>\n",
       "    </tr>\n",
       "    <tr>\n",
       "      <td>3</td>\n",
       "      <td>0.983700</td>\n",
       "      <td>1.154229</td>\n",
       "    </tr>\n",
       "  </tbody>\n",
       "</table><p>"
      ],
      "text/plain": [
       "<IPython.core.display.HTML object>"
      ]
     },
     "metadata": {},
     "output_type": "display_data"
    },
    {
     "data": {
      "text/plain": [
       "TrainOutput(global_step=4113, training_loss=1.3197102972170225, metrics={'train_runtime': 1828.199, 'train_samples_per_second': 143.935, 'train_steps_per_second': 2.25, 'total_flos': 3.4380318048620544e+16, 'train_loss': 1.3197102972170225, 'epoch': 3.0})"
      ]
     },
     "execution_count": 15,
     "metadata": {},
     "output_type": "execute_result"
    }
   ],
   "source": [
    "trainer.train()"
   ]
  },
  {
   "cell_type": "markdown",
   "metadata": {},
   "source": [
    "### 训练完成后，第一时间保存模型权重文件。"
   ]
  },
  {
   "cell_type": "code",
   "execution_count": 16,
   "metadata": {},
   "outputs": [],
   "source": [
    "model_to_save = trainer.save_model(model_dir)"
   ]
  },
  {
   "cell_type": "markdown",
   "metadata": {},
   "source": [
    "## 模型评估"
   ]
  },
  {
   "cell_type": "markdown",
   "metadata": {},
   "source": [
    "**评估模型输出需要一些额外的处理：将模型的预测映射回上下文的部分。**\n",
    "\n",
    "模型直接输出的是预测答案的`起始位置`和`结束位置`的**logits**"
   ]
  },
  {
   "cell_type": "code",
   "execution_count": 17,
   "metadata": {},
   "outputs": [
    {
     "data": {
      "text/plain": [
       "odict_keys(['loss', 'start_logits', 'end_logits'])"
      ]
     },
     "execution_count": 17,
     "metadata": {},
     "output_type": "execute_result"
    }
   ],
   "source": [
    "import torch\n",
    "\n",
    "for batch in trainer.get_eval_dataloader():\n",
    "    break\n",
    "batch = {k: v.to(trainer.args.device) for k, v in batch.items()}\n",
    "with torch.no_grad():\n",
    "    output = trainer.model(**batch)\n",
    "output.keys()"
   ]
  },
  {
   "cell_type": "markdown",
   "metadata": {},
   "source": [
    "模型的输出是一个类似字典的对象，其中包含损失（因为我们提供了标签），以及起始和结束logits。我们不需要损失来进行预测，让我们看一下logits："
   ]
  },
  {
   "cell_type": "code",
   "execution_count": 18,
   "metadata": {},
   "outputs": [
    {
     "data": {
      "text/plain": [
       "(torch.Size([64, 512]), torch.Size([64, 512]))"
      ]
     },
     "execution_count": 18,
     "metadata": {},
     "output_type": "execute_result"
    }
   ],
   "source": [
    "output.start_logits.shape, output.end_logits.shape"
   ]
  },
  {
   "cell_type": "code",
   "execution_count": 19,
   "metadata": {},
   "outputs": [
    {
     "data": {
      "text/plain": [
       "(tensor([ 46,  57,  78,  43, 118, 108,  72,  35, 108,  34,  73,  41,  80,  86,\n",
       "         156,  35,  83,  86,  80,  58,  77,  31,  42,  53,  41,  35,  42,  77,\n",
       "          11,  44,  27, 133,  66,  40,  87,  44,  43,  41, 127,  26,  28,  33,\n",
       "          87, 127,  95,  25,  43, 132,  42,  29,  44,  46,  24,  44,  65,  58,\n",
       "          81,  31,  59,  72,  25,  36,  57,  43], device='cuda:0'),\n",
       " tensor([ 47,  58,  81,  44, 118, 110,  75,  37, 110,  36,  76,  42,  83,  94,\n",
       "         158,  35,  83,  94,  83,  60,  80,  74,  43,  54,  42,  35,  43,  80,\n",
       "          13,  45,  28, 133,  66,  41,  89,  45,  44,  42, 127,  27,  30,  34,\n",
       "          89, 127,  97,  26,  44, 132,  43,  30,  45,  47,  25,  45,  65,  59,\n",
       "          81,  14,  60,  72,  25,  36,  58,  43], device='cuda:0'))"
      ]
     },
     "execution_count": 19,
     "metadata": {},
     "output_type": "execute_result"
    }
   ],
   "source": [
    "output.start_logits.argmax(dim=-1), output.end_logits.argmax(dim=-1)"
   ]
  },
  {
   "cell_type": "markdown",
   "metadata": {},
   "source": [
    "#### 如何从模型输出的位置 logit 组合成答案\n",
    "\n",
    "我们有每个特征和每个标记的logit。在每个特征中为每个标记预测答案最明显的方法是，将起始logits的最大索引作为起始位置，将结束logits的最大索引作为结束位置。\n",
    "\n",
    "在许多情况下这种方式效果很好，但是如果此预测给出了不可能的结果该怎么办？比如：起始位置可能大于结束位置，或者指向问题中的文本片段而不是答案。在这种情况下，我们可能希望查看第二好的预测，看它是否给出了一个可能的答案，并选择它。\n",
    "\n",
    "选择第二好的答案并不像选择最佳答案那么容易：\n",
    "- 它是起始logits中第二佳索引与结束logits中最佳索引吗？\n",
    "- 还是起始logits中最佳索引与结束logits中第二佳索引？\n",
    "- 如果第二好的答案也不可能，那么对于第三好的答案，情况会更加棘手。\n",
    "\n",
    "为了对答案进行分类，\n",
    "1. 将使用通过添加起始和结束logits获得的分数\n",
    "1. 设计一个名为`n_best_size`的超参数，限制不对所有可能的答案进行排序。\n",
    "1. 我们将选择起始和结束logits中的最佳索引，并收集这些预测的所有答案。\n",
    "1. 在检查每一个是否有效后，我们将按照其分数对它们进行排序，并保留最佳的答案。\n",
    "\n",
    "以下是我们如何在批次中的第一个特征上执行此操作的示例："
   ]
  },
  {
   "cell_type": "code",
   "execution_count": 20,
   "metadata": {},
   "outputs": [],
   "source": [
    "n_best_size = 20"
   ]
  },
  {
   "cell_type": "code",
   "execution_count": 21,
   "metadata": {
    "collapsed": true,
    "jupyter": {
     "outputs_hidden": true
    }
   },
   "outputs": [
    {
     "name": "stdout",
     "output_type": "stream",
     "text": [
      "[{'score': 15.939426, 'text': ''}, {'score': 13.775084, 'text': ''}, {'score': 10.543446, 'text': ''}, {'score': 9.794339, 'text': ''}, {'score': 9.2804365, 'text': ''}, {'score': 8.958746, 'text': ''}, {'score': 8.698749, 'text': ''}, {'score': 7.591703, 'text': ''}, {'score': 7.2063627, 'text': ''}, {'score': 7.1505404, 'text': ''}, {'score': 6.5267625, 'text': ''}, {'score': 6.336977, 'text': ''}, {'score': 6.045393, 'text': ''}, {'score': 11.177059, 'text': ''}, {'score': 6.1007257, 'text': ''}, {'score': 4.9936795, 'text': ''}, {'score': 4.552517, 'text': ''}, {'score': 3.928739, 'text': ''}, {'score': 3.7389536, 'text': ''}, {'score': 3.4473693, 'text': ''}, {'score': 11.613378, 'text': ''}, {'score': 9.449034, 'text': ''}, {'score': 5.4682894, 'text': ''}, {'score': 4.954387, 'text': ''}, {'score': 4.6326966, 'text': ''}, {'score': 4.3726997, 'text': ''}, {'score': 3.2656536, 'text': ''}, {'score': 2.8803134, 'text': ''}, {'score': 2.824491, 'text': ''}, {'score': 2.2007132, 'text': ''}, {'score': 2.0109277, 'text': ''}, {'score': 1.7193434, 'text': ''}, {'score': 10.97296, 'text': ''}, {'score': 8.808617, 'text': ''}, {'score': 6.0024223, 'text': ''}, {'score': 5.5769787, 'text': ''}, {'score': 4.8278728, 'text': ''}, {'score': 4.3139706, 'text': ''}, {'score': 4.136609, 'text': ''}, {'score': 3.9922795, 'text': ''}, {'score': 3.7322829, 'text': ''}, {'score': 2.8282912, 'text': ''}, {'score': 2.6252365, 'text': ''}, {'score': 2.588428, 'text': ''}, {'score': 2.2398968, 'text': ''}, {'score': 2.184074, 'text': ''}, {'score': 1.9974785, 'text': ''}, {'score': 1.5602963, 'text': ''}, {'score': 1.3705108, 'text': ''}, {'score': 1.0789266, 'text': ''}, {'score': 10.729168, 'text': ''}, {'score': 8.564824, 'text': ''}, {'score': 5.758629, 'text': ''}, {'score': 5.333186, 'text': ''}, {'score': 4.5840797, 'text': ''}, {'score': 4.070177, 'text': ''}, {'score': 3.892816, 'text': ''}, {'score': 3.7484865, 'text': ''}, {'score': 3.4884899, 'text': ''}, {'score': 2.5844982, 'text': ''}, {'score': 2.3814435, 'text': ''}, {'score': 2.344635, 'text': ''}, {'score': 1.9961036, 'text': ''}, {'score': 1.940281, 'text': ''}, {'score': 1.7536855, 'text': ''}, {'score': 1.3165033, 'text': ''}, {'score': 1.1267178, 'text': ''}, {'score': 0.83513355, 'text': ''}, {'score': 6.6924767, 'text': ''}, {'score': 1.6161425, 'text': ''}, {'score': 0.0679338, 'text': ''}, {'score': -0.55584395, 'text': ''}, {'score': -0.74562943, 'text': ''}, {'score': -1.0372137, 'text': ''}, {'score': 6.363637, 'text': ''}, {'score': 1.8689904, 'text': ''}, {'score': 1.5472997, 'text': ''}, {'score': 1.287303, 'text': ''}, {'score': 0.18025672, 'text': ''}, {'score': -0.20508325, 'text': ''}, {'score': -0.26090586, 'text': ''}, {'score': -0.8846836, 'text': ''}, {'score': -1.0744691, 'text': ''}, {'score': -1.3660533, 'text': ''}, {'score': 6.1013513, 'text': ''}, {'score': 2.1206071, 'text': ''}, {'score': 1.6067047, 'text': ''}, {'score': 1.285014, 'text': ''}, {'score': 1.0250173, 'text': ''}, {'score': -0.082028985, 'text': ''}, {'score': -0.46736896, 'text': ''}, {'score': -0.5231916, 'text': ''}, {'score': -1.1469693, 'text': ''}, {'score': -1.3367548, 'text': ''}, {'score': -1.628339, 'text': ''}, {'score': 0.6991998, 'text': ''}, {'score': -0.849009, 'text': ''}, {'score': -1.4727867, 'text': ''}, {'score': -1.6625721, 'text': ''}, {'score': -1.9541564, 'text': ''}, {'score': 7.906079, 'text': ''}, {'score': 5.741735, 'text': ''}, {'score': 2.510097, 'text': ''}, {'score': 1.7609909, 'text': ''}, {'score': 1.2470884, 'text': ''}, {'score': 0.92539775, 'text': ''}, {'score': 0.6654009, 'text': ''}, {'score': -0.23859063, 'text': ''}, {'score': -0.44164526, 'text': ''}, {'score': -0.82698524, 'text': ''}, {'score': -0.88280785, 'text': ''}, {'score': -1.5065856, 'text': ''}, {'score': -1.6963711, 'text': ''}, {'score': -1.9879553, 'text': ''}, {'score': 5.734831, 'text': ''}, {'score': 1.7540869, 'text': ''}, {'score': 1.2401844, 'text': ''}, {'score': 0.9184938, 'text': ''}, {'score': 0.658497, 'text': ''}, {'score': -0.4485492, 'text': ''}, {'score': -0.8338892, 'text': ''}, {'score': -0.8897118, 'text': ''}, {'score': -1.5134896, 'text': ''}, {'score': -1.7032751, 'text': ''}, {'score': -1.9948593, 'text': ''}, {'score': 7.668629, 'text': ''}, {'score': 5.5042853, 'text': ''}, {'score': 2.2726471, 'text': ''}, {'score': 1.523541, 'text': ''}, {'score': 1.0096385, 'text': ''}, {'score': 0.8322772, 'text': ''}, {'score': 0.68794787, 'text': ''}, {'score': 0.42795104, 'text': ''}, {'score': -0.47604048, 'text': ''}, {'score': -0.67909515, 'text': ''}, {'score': -0.7159039, 'text': ''}, {'score': -1.0644351, 'text': ''}, {'score': -1.1202577, 'text': ''}, {'score': -1.7440355, 'text': ''}, {'score': -1.933821, 'text': ''}, {'score': -2.2254052, 'text': ''}, {'score': 3.5825417, 'text': ''}, {'score': -0.39820242, 'text': ''}, {'score': -0.91210485, 'text': ''}, {'score': -1.2337955, 'text': ''}, {'score': -1.4937923, 'text': ''}, {'score': -2.6008387, 'text': ''}, {'score': -2.9861784, 'text': ''}, {'score': -3.0420012, 'text': ''}, {'score': -3.6657789, 'text': ''}, {'score': -3.8555644, 'text': ''}, {'score': -4.1471486, 'text': ''}, {'score': 3.5505538, 'text': ''}, {'score': -1.5257802, 'text': ''}, {'score': -2.6328263, 'text': ''}, {'score': -3.0181665, 'text': ''}, {'score': -3.073989, 'text': ''}, {'score': -3.6977668, 'text': ''}, {'score': -3.8875523, 'text': ''}, {'score': -4.1791363, 'text': ''}, {'score': -3.1368642, 'text': ''}, {'score': -3.760642, 'text': ''}, {'score': -3.9504275, 'text': ''}, {'score': -4.242012, 'text': ''}, {'score': 5.279542, 'text': ''}, {'score': 3.1151981, 'text': ''}, {'score': 0.30900335, 'text': ''}, {'score': -0.11643982, 'text': ''}, {'score': -0.865546, 'text': ''}, {'score': -1.3794484, 'text': ''}, {'score': -1.5568098, 'text': ''}, {'score': -1.7011391, 'text': ''}, {'score': -1.9611359, 'text': ''}, {'score': -2.8651276, 'text': ''}, {'score': -3.068182, 'text': ''}, {'score': -3.104991, 'text': ''}, {'score': -3.4535222, 'text': ''}, {'score': -3.5093446, 'text': ''}, {'score': -4.1331224, 'text': ''}, {'score': -4.322908, 'text': ''}, {'score': -4.6144924, 'text': ''}, {'score': 5.2221394, 'text': ''}, {'score': 3.0577958, 'text': ''}, {'score': 0.25160098, 'text': ''}, {'score': -0.17384219, 'text': ''}, {'score': -0.92294836, 'text': ''}, {'score': -1.4368508, 'text': ''}, {'score': -1.6142122, 'text': ''}, {'score': -1.7585415, 'text': ''}, {'score': -2.0185382, 'text': ''}, {'score': -2.92253, 'text': ''}, {'score': -2.9555283, 'text': ''}, {'score': -3.1255846, 'text': ''}, {'score': -3.162393, 'text': ''}, {'score': -3.5109243, 'text': ''}, {'score': -3.5667472, 'text': ''}, {'score': -3.7533426, 'text': ''}, {'score': -4.190525, 'text': ''}, {'score': -4.38031, 'text': ''}, {'score': -4.654063, 'text': ''}, {'score': -4.6718946, 'text': ''}, {'score': 5.1919823, 'text': ''}, {'score': 3.0276384, 'text': ''}, {'score': 0.22144365, 'text': ''}, {'score': -0.20399952, 'text': ''}, {'score': -0.9531057, 'text': ''}, {'score': -1.4670081, 'text': ''}, {'score': -1.6443695, 'text': ''}, {'score': -1.7886988, 'text': ''}, {'score': -2.0486956, 'text': ''}, {'score': -2.9526873, 'text': ''}, {'score': -2.9856856, 'text': ''}, {'score': -3.1557417, 'text': ''}, {'score': -3.1925507, 'text': ''}, {'score': -3.541082, 'text': ''}, {'score': -3.5969043, 'text': ''}, {'score': -3.7835, 'text': ''}, {'score': -4.220682, 'text': ''}, {'score': -4.4104676, 'text': ''}, {'score': -4.702052, 'text': ''}, {'score': -3.7427535, 'text': ''}, {'score': -4.3665314, 'text': ''}, {'score': -4.556317, 'text': ''}, {'score': -4.8479013, 'text': ''}, {'score': 4.9192476, 'text': ''}, {'score': 2.7549038, 'text': ''}, {'score': -0.47673416, 'text': ''}, {'score': -1.2258403, 'text': ''}, {'score': -1.7397428, 'text': ''}, {'score': -1.9171041, 'text': ''}, {'score': -2.0614333, 'text': ''}, {'score': -2.3214302, 'text': ''}, {'score': -3.225422, 'text': ''}, {'score': -3.4284763, 'text': ''}, {'score': -3.8138165, 'text': ''}, {'score': -3.869639, 'text': ''}, {'score': -4.493417, 'text': ''}, {'score': -4.6832023, 'text': ''}, {'score': -4.9747868, 'text': ''}]\n"
     ]
    }
   ],
   "source": [
    "import numpy as np\n",
    "\n",
    "start_logits = output.start_logits[0].cpu().numpy()\n",
    "end_logits = output.end_logits[0].cpu().numpy()\n",
    "\n",
    "# 获取最佳的起始和结束位置的索引：\n",
    "start_indexes = np.argsort(start_logits)[-1 : -n_best_size - 1 : -1].tolist()\n",
    "end_indexes = np.argsort(end_logits)[-1 : -n_best_size - 1 : -1].tolist()\n",
    "\n",
    "valid_answers = []\n",
    "\n",
    "# 遍历起始位置和结束位置的索引组合\n",
    "for start_index in start_indexes:\n",
    "    for end_index in end_indexes:\n",
    "        if start_index <= end_index:  # 需要进一步测试以检查答案是否在上下文中\n",
    "            valid_answers.append(\n",
    "                {\n",
    "                    \"score\": start_logits[start_index] + end_logits[end_index],\n",
    "                    \"text\": \"\"  # 我们需要找到一种方法来获取与上下文中答案对应的原始子字符串\n",
    "                }\n",
    "            )\n",
    "print(valid_answers)"
   ]
  },
  {
   "cell_type": "markdown",
   "metadata": {},
   "source": [
    "\n",
    "然后，我们可以根据它们的得分对`valid_answers`进行排序，并仅保留最佳答案。唯一剩下的问题是如何检查给定的跨度是否在上下文中（而不是问题中），以及如何获取其中的文本。为此，我们需要向我们的验证特征添加两个内容：\n",
    "\n",
    "- 生成该特征的示例的ID（因为每个示例可以生成多个特征，如前所示）；\n",
    "- 偏移映射，它将为我们提供从标记索引到上下文中字符位置的映射。\n",
    "\n",
    "这就是为什么我们将使用以下函数稍微不同于`prepare_train_features`来重新处理验证集："
   ]
  },
  {
   "cell_type": "code",
   "execution_count": 22,
   "metadata": {},
   "outputs": [],
   "source": [
    "def prepare_validation_features(examples):\n",
    "    # 一些问题的左侧有很多空白，这些空白并不有用且会导致上下文截断失败（分词后的问题会占用很多空间）。\n",
    "    # 因此我们移除这些左侧空白\n",
    "    examples[\"question\"] = [q.lstrip() for q in examples[\"question\"]]\n",
    "\n",
    "    # 使用截断和可能的填充对我们的示例进行分词，但使用步长保留溢出的令牌。这导致一个长上下文的示例可能产生\n",
    "    # 几个特征，每个特征的上下文都会稍微与前一个特征的上下文重叠。\n",
    "    tokenized_examples = tokenizer(\n",
    "        examples[\"question\" if pad_on_right else \"context\"],\n",
    "        examples[\"context\" if pad_on_right else \"question\"],\n",
    "        truncation=\"only_second\" if pad_on_right else \"only_first\",\n",
    "        max_length=max_length,\n",
    "        stride=doc_stride,\n",
    "        return_overflowing_tokens=True,\n",
    "        return_offsets_mapping=True,\n",
    "        padding=\"max_length\",\n",
    "    )\n",
    "\n",
    "    # 由于一个示例在上下文很长时可能会产生几个特征，我们需要一个从特征映射到其对应示例的映射。这个键就是为了这个目的。\n",
    "    sample_mapping = tokenized_examples.pop(\"overflow_to_sample_mapping\")\n",
    "\n",
    "    # 我们保留产生这个特征的示例ID，并且会存储偏移映射。\n",
    "    tokenized_examples[\"example_id\"] = []\n",
    "\n",
    "    for i in range(len(tokenized_examples[\"input_ids\"])):\n",
    "        # 获取与该示例对应的序列（以了解哪些是上下文，哪些是问题）。\n",
    "        sequence_ids = tokenized_examples.sequence_ids(i)\n",
    "        context_index = 1 if pad_on_right else 0\n",
    "\n",
    "        # 一个示例可以产生几个文本段，这里是包含该文本段的示例的索引。\n",
    "        sample_index = sample_mapping[i]\n",
    "        tokenized_examples[\"example_id\"].append(examples[\"id\"][sample_index])\n",
    "\n",
    "        # 将不属于上下文的偏移映射设置为None，以便容易确定一个令牌位置是否属于上下文。\n",
    "        tokenized_examples[\"offset_mapping\"][i] = [\n",
    "            (o if sequence_ids[k] == context_index else None)\n",
    "            for k, o in enumerate(tokenized_examples[\"offset_mapping\"][i])\n",
    "        ]\n",
    "\n",
    "    return tokenized_examples\n"
   ]
  },
  {
   "cell_type": "markdown",
   "metadata": {},
   "source": [
    "将`prepare_validation_features`应用到整个验证集："
   ]
  },
  {
   "cell_type": "code",
   "execution_count": 23,
   "metadata": {},
   "outputs": [
    {
     "name": "stderr",
     "output_type": "stream",
     "text": [
      "Map: 100%|██████████| 10570/10570 [00:03<00:00, 2805.20 examples/s]\n"
     ]
    }
   ],
   "source": [
    "validation_features = datasets[\"validation\"].map(\n",
    "    prepare_validation_features,\n",
    "    batched=True,\n",
    "    remove_columns=datasets[\"validation\"].column_names\n",
    ")"
   ]
  },
  {
   "cell_type": "markdown",
   "metadata": {},
   "source": [
    "Now we can grab the predictions for all features by using the `Trainer.predict` method:"
   ]
  },
  {
   "cell_type": "code",
   "execution_count": 39,
   "metadata": {},
   "outputs": [],
   "source": [
    "for i, example in enumerate(tokenized_datasets[\"train\"]):\n",
    "    if example[\"input_ids\"][-1] != 0:\n",
    "        break"
   ]
  },
  {
   "cell_type": "code",
   "execution_count": 47,
   "metadata": {
    "scrolled": true
   },
   "outputs": [
    {
     "data": {
      "text/plain": [
       "{'input_ids': [101,\n",
       "  2000,\n",
       "  3183,\n",
       "  2106,\n",
       "  1996,\n",
       "  6261,\n",
       "  2984,\n",
       "  9382,\n",
       "  3711,\n",
       "  1999,\n",
       "  8517,\n",
       "  1999,\n",
       "  10223,\n",
       "  26371,\n",
       "  2605,\n",
       "  1029,\n",
       "  102,\n",
       "  6549,\n",
       "  2135,\n",
       "  1010,\n",
       "  1996,\n",
       "  2082,\n",
       "  2038,\n",
       "  1037,\n",
       "  3234,\n",
       "  2839,\n",
       "  1012,\n",
       "  10234,\n",
       "  1996,\n",
       "  2364,\n",
       "  2311,\n",
       "  1005,\n",
       "  1055,\n",
       "  2751,\n",
       "  8514,\n",
       "  2003,\n",
       "  1037,\n",
       "  3585,\n",
       "  6231,\n",
       "  1997,\n",
       "  1996,\n",
       "  6261,\n",
       "  2984,\n",
       "  1012,\n",
       "  3202,\n",
       "  1999,\n",
       "  2392,\n",
       "  1997,\n",
       "  1996,\n",
       "  2364,\n",
       "  2311,\n",
       "  1998,\n",
       "  5307,\n",
       "  2009,\n",
       "  1010,\n",
       "  2003,\n",
       "  1037,\n",
       "  6967,\n",
       "  6231,\n",
       "  1997,\n",
       "  4828,\n",
       "  2007,\n",
       "  2608,\n",
       "  2039,\n",
       "  14995,\n",
       "  6924,\n",
       "  2007,\n",
       "  1996,\n",
       "  5722,\n",
       "  1000,\n",
       "  2310,\n",
       "  3490,\n",
       "  2618,\n",
       "  4748,\n",
       "  2033,\n",
       "  18168,\n",
       "  5267,\n",
       "  1000,\n",
       "  1012,\n",
       "  2279,\n",
       "  2000,\n",
       "  1996,\n",
       "  2364,\n",
       "  2311,\n",
       "  2003,\n",
       "  1996,\n",
       "  13546,\n",
       "  1997,\n",
       "  1996,\n",
       "  6730,\n",
       "  2540,\n",
       "  1012,\n",
       "  3202,\n",
       "  2369,\n",
       "  1996,\n",
       "  13546,\n",
       "  2003,\n",
       "  1996,\n",
       "  24665,\n",
       "  23052,\n",
       "  1010,\n",
       "  1037,\n",
       "  14042,\n",
       "  2173,\n",
       "  1997,\n",
       "  7083,\n",
       "  1998,\n",
       "  9185,\n",
       "  1012,\n",
       "  2009,\n",
       "  2003,\n",
       "  1037,\n",
       "  15059,\n",
       "  1997,\n",
       "  1996,\n",
       "  24665,\n",
       "  23052,\n",
       "  2012,\n",
       "  10223,\n",
       "  26371,\n",
       "  1010,\n",
       "  2605,\n",
       "  2073,\n",
       "  1996,\n",
       "  6261,\n",
       "  2984,\n",
       "  22353,\n",
       "  2135,\n",
       "  2596,\n",
       "  2000,\n",
       "  3002,\n",
       "  16595,\n",
       "  9648,\n",
       "  4674,\n",
       "  2061,\n",
       "  12083,\n",
       "  9711,\n",
       "  2271,\n",
       "  1999,\n",
       "  8517,\n",
       "  1012,\n",
       "  2012,\n",
       "  1996,\n",
       "  2203,\n",
       "  1997,\n",
       "  1996,\n",
       "  2364,\n",
       "  3298,\n",
       "  1006,\n",
       "  1998,\n",
       "  1999,\n",
       "  1037,\n",
       "  3622,\n",
       "  2240,\n",
       "  2008,\n",
       "  8539,\n",
       "  2083,\n",
       "  1017,\n",
       "  11342,\n",
       "  1998,\n",
       "  1996,\n",
       "  2751,\n",
       "  8514,\n",
       "  1007,\n",
       "  1010,\n",
       "  2003,\n",
       "  1037,\n",
       "  3722,\n",
       "  1010,\n",
       "  2715,\n",
       "  2962,\n",
       "  6231,\n",
       "  1997,\n",
       "  2984,\n",
       "  1012,\n",
       "  102,\n",
       "  0,\n",
       "  0,\n",
       "  0,\n",
       "  0,\n",
       "  0,\n",
       "  0,\n",
       "  0,\n",
       "  0,\n",
       "  0,\n",
       "  0,\n",
       "  0,\n",
       "  0,\n",
       "  0,\n",
       "  0,\n",
       "  0,\n",
       "  0,\n",
       "  0,\n",
       "  0,\n",
       "  0,\n",
       "  0,\n",
       "  0,\n",
       "  0,\n",
       "  0,\n",
       "  0,\n",
       "  0,\n",
       "  0,\n",
       "  0,\n",
       "  0,\n",
       "  0,\n",
       "  0,\n",
       "  0,\n",
       "  0,\n",
       "  0,\n",
       "  0,\n",
       "  0,\n",
       "  0,\n",
       "  0,\n",
       "  0,\n",
       "  0,\n",
       "  0,\n",
       "  0,\n",
       "  0,\n",
       "  0,\n",
       "  0,\n",
       "  0,\n",
       "  0,\n",
       "  0,\n",
       "  0,\n",
       "  0,\n",
       "  0,\n",
       "  0,\n",
       "  0,\n",
       "  0,\n",
       "  0,\n",
       "  0,\n",
       "  0,\n",
       "  0,\n",
       "  0,\n",
       "  0,\n",
       "  0,\n",
       "  0,\n",
       "  0,\n",
       "  0,\n",
       "  0,\n",
       "  0,\n",
       "  0,\n",
       "  0,\n",
       "  0,\n",
       "  0,\n",
       "  0,\n",
       "  0,\n",
       "  0,\n",
       "  0,\n",
       "  0,\n",
       "  0,\n",
       "  0,\n",
       "  0,\n",
       "  0,\n",
       "  0,\n",
       "  0,\n",
       "  0,\n",
       "  0,\n",
       "  0,\n",
       "  0,\n",
       "  0,\n",
       "  0,\n",
       "  0,\n",
       "  0,\n",
       "  0,\n",
       "  0,\n",
       "  0,\n",
       "  0,\n",
       "  0,\n",
       "  0,\n",
       "  0,\n",
       "  0,\n",
       "  0,\n",
       "  0,\n",
       "  0,\n",
       "  0,\n",
       "  0,\n",
       "  0,\n",
       "  0,\n",
       "  0,\n",
       "  0,\n",
       "  0,\n",
       "  0,\n",
       "  0,\n",
       "  0,\n",
       "  0,\n",
       "  0,\n",
       "  0,\n",
       "  0,\n",
       "  0,\n",
       "  0,\n",
       "  0,\n",
       "  0,\n",
       "  0,\n",
       "  0,\n",
       "  0,\n",
       "  0,\n",
       "  0,\n",
       "  0,\n",
       "  0,\n",
       "  0,\n",
       "  0,\n",
       "  0,\n",
       "  0,\n",
       "  0,\n",
       "  0,\n",
       "  0,\n",
       "  0,\n",
       "  0,\n",
       "  0,\n",
       "  0,\n",
       "  0,\n",
       "  0,\n",
       "  0,\n",
       "  0,\n",
       "  0,\n",
       "  0,\n",
       "  0,\n",
       "  0,\n",
       "  0,\n",
       "  0,\n",
       "  0,\n",
       "  0,\n",
       "  0,\n",
       "  0,\n",
       "  0,\n",
       "  0,\n",
       "  0,\n",
       "  0,\n",
       "  0,\n",
       "  0,\n",
       "  0,\n",
       "  0,\n",
       "  0,\n",
       "  0,\n",
       "  0,\n",
       "  0,\n",
       "  0,\n",
       "  0,\n",
       "  0,\n",
       "  0,\n",
       "  0,\n",
       "  0,\n",
       "  0,\n",
       "  0,\n",
       "  0,\n",
       "  0,\n",
       "  0,\n",
       "  0,\n",
       "  0,\n",
       "  0,\n",
       "  0,\n",
       "  0,\n",
       "  0,\n",
       "  0,\n",
       "  0,\n",
       "  0,\n",
       "  0,\n",
       "  0,\n",
       "  0,\n",
       "  0,\n",
       "  0,\n",
       "  0,\n",
       "  0,\n",
       "  0,\n",
       "  0,\n",
       "  0,\n",
       "  0,\n",
       "  0,\n",
       "  0,\n",
       "  0,\n",
       "  0,\n",
       "  0,\n",
       "  0,\n",
       "  0,\n",
       "  0,\n",
       "  0,\n",
       "  0,\n",
       "  0,\n",
       "  0,\n",
       "  0,\n",
       "  0,\n",
       "  0,\n",
       "  0,\n",
       "  0,\n",
       "  0,\n",
       "  0,\n",
       "  0,\n",
       "  0,\n",
       "  0,\n",
       "  0,\n",
       "  0,\n",
       "  0,\n",
       "  0,\n",
       "  0,\n",
       "  0,\n",
       "  0,\n",
       "  0,\n",
       "  0,\n",
       "  0,\n",
       "  0,\n",
       "  0,\n",
       "  0,\n",
       "  0,\n",
       "  0,\n",
       "  0,\n",
       "  0,\n",
       "  0,\n",
       "  0,\n",
       "  0,\n",
       "  0,\n",
       "  0,\n",
       "  0,\n",
       "  0,\n",
       "  0,\n",
       "  0,\n",
       "  0,\n",
       "  0,\n",
       "  0,\n",
       "  0,\n",
       "  0,\n",
       "  0,\n",
       "  0,\n",
       "  0,\n",
       "  0,\n",
       "  0,\n",
       "  0,\n",
       "  0,\n",
       "  0,\n",
       "  0,\n",
       "  0,\n",
       "  0,\n",
       "  0,\n",
       "  0,\n",
       "  0,\n",
       "  0,\n",
       "  0,\n",
       "  0,\n",
       "  0,\n",
       "  0,\n",
       "  0,\n",
       "  0,\n",
       "  0,\n",
       "  0,\n",
       "  0,\n",
       "  0,\n",
       "  0,\n",
       "  0,\n",
       "  0,\n",
       "  0,\n",
       "  0,\n",
       "  0,\n",
       "  0,\n",
       "  0,\n",
       "  0,\n",
       "  0,\n",
       "  0,\n",
       "  0,\n",
       "  0,\n",
       "  0,\n",
       "  0,\n",
       "  0,\n",
       "  0,\n",
       "  0,\n",
       "  0,\n",
       "  0,\n",
       "  0,\n",
       "  0,\n",
       "  0,\n",
       "  0,\n",
       "  0,\n",
       "  0,\n",
       "  0,\n",
       "  0,\n",
       "  0,\n",
       "  0,\n",
       "  0,\n",
       "  0,\n",
       "  0,\n",
       "  0,\n",
       "  0,\n",
       "  0,\n",
       "  0,\n",
       "  0,\n",
       "  0,\n",
       "  0,\n",
       "  0,\n",
       "  0,\n",
       "  0,\n",
       "  0,\n",
       "  0,\n",
       "  0,\n",
       "  0,\n",
       "  0,\n",
       "  0,\n",
       "  0,\n",
       "  0,\n",
       "  0,\n",
       "  0,\n",
       "  0,\n",
       "  0,\n",
       "  0,\n",
       "  0,\n",
       "  0,\n",
       "  0,\n",
       "  0,\n",
       "  0,\n",
       "  0,\n",
       "  0,\n",
       "  0,\n",
       "  0,\n",
       "  0],\n",
       " 'attention_mask': [1,\n",
       "  1,\n",
       "  1,\n",
       "  1,\n",
       "  1,\n",
       "  1,\n",
       "  1,\n",
       "  1,\n",
       "  1,\n",
       "  1,\n",
       "  1,\n",
       "  1,\n",
       "  1,\n",
       "  1,\n",
       "  1,\n",
       "  1,\n",
       "  1,\n",
       "  1,\n",
       "  1,\n",
       "  1,\n",
       "  1,\n",
       "  1,\n",
       "  1,\n",
       "  1,\n",
       "  1,\n",
       "  1,\n",
       "  1,\n",
       "  1,\n",
       "  1,\n",
       "  1,\n",
       "  1,\n",
       "  1,\n",
       "  1,\n",
       "  1,\n",
       "  1,\n",
       "  1,\n",
       "  1,\n",
       "  1,\n",
       "  1,\n",
       "  1,\n",
       "  1,\n",
       "  1,\n",
       "  1,\n",
       "  1,\n",
       "  1,\n",
       "  1,\n",
       "  1,\n",
       "  1,\n",
       "  1,\n",
       "  1,\n",
       "  1,\n",
       "  1,\n",
       "  1,\n",
       "  1,\n",
       "  1,\n",
       "  1,\n",
       "  1,\n",
       "  1,\n",
       "  1,\n",
       "  1,\n",
       "  1,\n",
       "  1,\n",
       "  1,\n",
       "  1,\n",
       "  1,\n",
       "  1,\n",
       "  1,\n",
       "  1,\n",
       "  1,\n",
       "  1,\n",
       "  1,\n",
       "  1,\n",
       "  1,\n",
       "  1,\n",
       "  1,\n",
       "  1,\n",
       "  1,\n",
       "  1,\n",
       "  1,\n",
       "  1,\n",
       "  1,\n",
       "  1,\n",
       "  1,\n",
       "  1,\n",
       "  1,\n",
       "  1,\n",
       "  1,\n",
       "  1,\n",
       "  1,\n",
       "  1,\n",
       "  1,\n",
       "  1,\n",
       "  1,\n",
       "  1,\n",
       "  1,\n",
       "  1,\n",
       "  1,\n",
       "  1,\n",
       "  1,\n",
       "  1,\n",
       "  1,\n",
       "  1,\n",
       "  1,\n",
       "  1,\n",
       "  1,\n",
       "  1,\n",
       "  1,\n",
       "  1,\n",
       "  1,\n",
       "  1,\n",
       "  1,\n",
       "  1,\n",
       "  1,\n",
       "  1,\n",
       "  1,\n",
       "  1,\n",
       "  1,\n",
       "  1,\n",
       "  1,\n",
       "  1,\n",
       "  1,\n",
       "  1,\n",
       "  1,\n",
       "  1,\n",
       "  1,\n",
       "  1,\n",
       "  1,\n",
       "  1,\n",
       "  1,\n",
       "  1,\n",
       "  1,\n",
       "  1,\n",
       "  1,\n",
       "  1,\n",
       "  1,\n",
       "  1,\n",
       "  1,\n",
       "  1,\n",
       "  1,\n",
       "  1,\n",
       "  1,\n",
       "  1,\n",
       "  1,\n",
       "  1,\n",
       "  1,\n",
       "  1,\n",
       "  1,\n",
       "  1,\n",
       "  1,\n",
       "  1,\n",
       "  1,\n",
       "  1,\n",
       "  1,\n",
       "  1,\n",
       "  1,\n",
       "  1,\n",
       "  1,\n",
       "  1,\n",
       "  1,\n",
       "  1,\n",
       "  1,\n",
       "  1,\n",
       "  1,\n",
       "  1,\n",
       "  1,\n",
       "  1,\n",
       "  1,\n",
       "  1,\n",
       "  1,\n",
       "  1,\n",
       "  1,\n",
       "  1,\n",
       "  1,\n",
       "  1,\n",
       "  1,\n",
       "  1,\n",
       "  0,\n",
       "  0,\n",
       "  0,\n",
       "  0,\n",
       "  0,\n",
       "  0,\n",
       "  0,\n",
       "  0,\n",
       "  0,\n",
       "  0,\n",
       "  0,\n",
       "  0,\n",
       "  0,\n",
       "  0,\n",
       "  0,\n",
       "  0,\n",
       "  0,\n",
       "  0,\n",
       "  0,\n",
       "  0,\n",
       "  0,\n",
       "  0,\n",
       "  0,\n",
       "  0,\n",
       "  0,\n",
       "  0,\n",
       "  0,\n",
       "  0,\n",
       "  0,\n",
       "  0,\n",
       "  0,\n",
       "  0,\n",
       "  0,\n",
       "  0,\n",
       "  0,\n",
       "  0,\n",
       "  0,\n",
       "  0,\n",
       "  0,\n",
       "  0,\n",
       "  0,\n",
       "  0,\n",
       "  0,\n",
       "  0,\n",
       "  0,\n",
       "  0,\n",
       "  0,\n",
       "  0,\n",
       "  0,\n",
       "  0,\n",
       "  0,\n",
       "  0,\n",
       "  0,\n",
       "  0,\n",
       "  0,\n",
       "  0,\n",
       "  0,\n",
       "  0,\n",
       "  0,\n",
       "  0,\n",
       "  0,\n",
       "  0,\n",
       "  0,\n",
       "  0,\n",
       "  0,\n",
       "  0,\n",
       "  0,\n",
       "  0,\n",
       "  0,\n",
       "  0,\n",
       "  0,\n",
       "  0,\n",
       "  0,\n",
       "  0,\n",
       "  0,\n",
       "  0,\n",
       "  0,\n",
       "  0,\n",
       "  0,\n",
       "  0,\n",
       "  0,\n",
       "  0,\n",
       "  0,\n",
       "  0,\n",
       "  0,\n",
       "  0,\n",
       "  0,\n",
       "  0,\n",
       "  0,\n",
       "  0,\n",
       "  0,\n",
       "  0,\n",
       "  0,\n",
       "  0,\n",
       "  0,\n",
       "  0,\n",
       "  0,\n",
       "  0,\n",
       "  0,\n",
       "  0,\n",
       "  0,\n",
       "  0,\n",
       "  0,\n",
       "  0,\n",
       "  0,\n",
       "  0,\n",
       "  0,\n",
       "  0,\n",
       "  0,\n",
       "  0,\n",
       "  0,\n",
       "  0,\n",
       "  0,\n",
       "  0,\n",
       "  0,\n",
       "  0,\n",
       "  0,\n",
       "  0,\n",
       "  0,\n",
       "  0,\n",
       "  0,\n",
       "  0,\n",
       "  0,\n",
       "  0,\n",
       "  0,\n",
       "  0,\n",
       "  0,\n",
       "  0,\n",
       "  0,\n",
       "  0,\n",
       "  0,\n",
       "  0,\n",
       "  0,\n",
       "  0,\n",
       "  0,\n",
       "  0,\n",
       "  0,\n",
       "  0,\n",
       "  0,\n",
       "  0,\n",
       "  0,\n",
       "  0,\n",
       "  0,\n",
       "  0,\n",
       "  0,\n",
       "  0,\n",
       "  0,\n",
       "  0,\n",
       "  0,\n",
       "  0,\n",
       "  0,\n",
       "  0,\n",
       "  0,\n",
       "  0,\n",
       "  0,\n",
       "  0,\n",
       "  0,\n",
       "  0,\n",
       "  0,\n",
       "  0,\n",
       "  0,\n",
       "  0,\n",
       "  0,\n",
       "  0,\n",
       "  0,\n",
       "  0,\n",
       "  0,\n",
       "  0,\n",
       "  0,\n",
       "  0,\n",
       "  0,\n",
       "  0,\n",
       "  0,\n",
       "  0,\n",
       "  0,\n",
       "  0,\n",
       "  0,\n",
       "  0,\n",
       "  0,\n",
       "  0,\n",
       "  0,\n",
       "  0,\n",
       "  0,\n",
       "  0,\n",
       "  0,\n",
       "  0,\n",
       "  0,\n",
       "  0,\n",
       "  0,\n",
       "  0,\n",
       "  0,\n",
       "  0,\n",
       "  0,\n",
       "  0,\n",
       "  0,\n",
       "  0,\n",
       "  0,\n",
       "  0,\n",
       "  0,\n",
       "  0,\n",
       "  0,\n",
       "  0,\n",
       "  0,\n",
       "  0,\n",
       "  0,\n",
       "  0,\n",
       "  0,\n",
       "  0,\n",
       "  0,\n",
       "  0,\n",
       "  0,\n",
       "  0,\n",
       "  0,\n",
       "  0,\n",
       "  0,\n",
       "  0,\n",
       "  0,\n",
       "  0,\n",
       "  0,\n",
       "  0,\n",
       "  0,\n",
       "  0,\n",
       "  0,\n",
       "  0,\n",
       "  0,\n",
       "  0,\n",
       "  0,\n",
       "  0,\n",
       "  0,\n",
       "  0,\n",
       "  0,\n",
       "  0,\n",
       "  0,\n",
       "  0,\n",
       "  0,\n",
       "  0,\n",
       "  0,\n",
       "  0,\n",
       "  0,\n",
       "  0,\n",
       "  0,\n",
       "  0,\n",
       "  0,\n",
       "  0,\n",
       "  0,\n",
       "  0,\n",
       "  0,\n",
       "  0,\n",
       "  0,\n",
       "  0,\n",
       "  0,\n",
       "  0,\n",
       "  0,\n",
       "  0,\n",
       "  0,\n",
       "  0,\n",
       "  0,\n",
       "  0,\n",
       "  0,\n",
       "  0,\n",
       "  0,\n",
       "  0,\n",
       "  0,\n",
       "  0,\n",
       "  0,\n",
       "  0,\n",
       "  0,\n",
       "  0,\n",
       "  0,\n",
       "  0,\n",
       "  0,\n",
       "  0,\n",
       "  0,\n",
       "  0,\n",
       "  0,\n",
       "  0,\n",
       "  0,\n",
       "  0,\n",
       "  0,\n",
       "  0,\n",
       "  0,\n",
       "  0,\n",
       "  0,\n",
       "  0,\n",
       "  0,\n",
       "  0,\n",
       "  0,\n",
       "  0,\n",
       "  0,\n",
       "  0,\n",
       "  0,\n",
       "  0,\n",
       "  0,\n",
       "  0,\n",
       "  0,\n",
       "  0,\n",
       "  0,\n",
       "  0,\n",
       "  0,\n",
       "  0,\n",
       "  0,\n",
       "  0,\n",
       "  0,\n",
       "  0,\n",
       "  0,\n",
       "  0,\n",
       "  0,\n",
       "  0,\n",
       "  0,\n",
       "  0,\n",
       "  0,\n",
       "  0,\n",
       "  0,\n",
       "  0,\n",
       "  0,\n",
       "  0,\n",
       "  0,\n",
       "  0,\n",
       "  0,\n",
       "  0,\n",
       "  0,\n",
       "  0,\n",
       "  0,\n",
       "  0,\n",
       "  0,\n",
       "  0,\n",
       "  0,\n",
       "  0,\n",
       "  0,\n",
       "  0,\n",
       "  0,\n",
       "  0,\n",
       "  0,\n",
       "  0,\n",
       "  0,\n",
       "  0],\n",
       " 'start_positions': 130,\n",
       " 'end_positions': 137}"
      ]
     },
     "execution_count": 47,
     "metadata": {},
     "output_type": "execute_result"
    }
   ],
   "source": [
    "tokenized_datasets[\"train\"][0]"
   ]
  },
  {
   "cell_type": "code",
   "execution_count": 48,
   "metadata": {},
   "outputs": [
    {
     "data": {
      "text/html": [],
      "text/plain": [
       "<IPython.core.display.HTML object>"
      ]
     },
     "metadata": {},
     "output_type": "display_data"
    }
   ],
   "source": [
    "raw_predictions = trainer.predict(validation_features)"
   ]
  },
  {
   "cell_type": "code",
   "execution_count": 54,
   "metadata": {},
   "outputs": [
    {
     "data": {
      "text/plain": [
       "{'test_runtime': 25.6306,\n",
       " 'test_samples_per_second': 414.583,\n",
       " 'test_steps_per_second': 6.516}"
      ]
     },
     "execution_count": 54,
     "metadata": {},
     "output_type": "execute_result"
    }
   ],
   "source": [
    "raw_predictions[2]"
   ]
  },
  {
   "cell_type": "markdown",
   "metadata": {},
   "source": [
    "`Trainer`会隐藏模型不使用的列（在这里是`example_id`和`offset_mapping`，我们需要它们进行后处理），所以我们需要将它们重新设置回来："
   ]
  },
  {
   "cell_type": "code",
   "execution_count": 55,
   "metadata": {},
   "outputs": [],
   "source": [
    "validation_features.set_format(type=validation_features.format[\"type\"], columns=list(validation_features.features.keys()))"
   ]
  },
  {
   "cell_type": "markdown",
   "metadata": {},
   "source": [
    "现在，我们可以改进之前的测试：\n",
    "\n",
    "由于在偏移映射中，当它对应于问题的一部分时，我们将其设置为None，因此可以轻松检查答案是否完全在上下文中。我们还可以从考虑中排除非常长的答案（可以调整的超参数）。\n",
    "\n",
    "展开说下具体实现：\n",
    "- 首先从模型输出中获取起始和结束的逻辑值（logits），这些值表明答案在文本中可能开始和结束的位置。\n",
    "- 然后，它使用偏移映射（offset_mapping）来找到这些逻辑值在原始文本中的具体位置。\n",
    "- 接下来，代码遍历可能的开始和结束索引组合，排除那些不在上下文范围内或长度不合适的答案。\n",
    "- 对于有效的答案，它计算出一个分数（基于开始和结束逻辑值的和），并将答案及其分数存储起来。\n",
    "- 最后，它根据分数对答案进行排序，并返回得分最高的几个答案。"
   ]
  },
  {
   "cell_type": "code",
   "execution_count": 56,
   "metadata": {},
   "outputs": [],
   "source": [
    "max_answer_length = 30"
   ]
  },
  {
   "cell_type": "code",
   "execution_count": 57,
   "metadata": {},
   "outputs": [
    {
     "data": {
      "text/plain": [
       "[{'score': 15.939426, 'text': 'Denver Broncos'},\n",
       " {'score': 13.775084,\n",
       "  'text': 'Denver Broncos defeated the National Football Conference (NFC) champion Carolina Panthers'},\n",
       " {'score': 11.613378, 'text': 'Broncos'},\n",
       " {'score': 11.177059, 'text': 'Carolina Panthers'},\n",
       " {'score': 10.97296,\n",
       "  'text': 'American Football Conference (AFC) champion Denver Broncos'},\n",
       " {'score': 10.729168,\n",
       "  'text': 'The American Football Conference (AFC) champion Denver Broncos'},\n",
       " {'score': 10.543446, 'text': 'Denver'},\n",
       " {'score': 9.794339,\n",
       "  'text': 'Denver Broncos defeated the National Football Conference'},\n",
       " {'score': 9.449034,\n",
       "  'text': 'Broncos defeated the National Football Conference (NFC) champion Carolina Panthers'},\n",
       " {'score': 9.2804365,\n",
       "  'text': 'Denver Broncos defeated the National Football Conference (NFC)'},\n",
       " {'score': 8.958746,\n",
       "  'text': 'Denver Broncos defeated the National Football Conference (NFC'},\n",
       " {'score': 8.808617,\n",
       "  'text': 'American Football Conference (AFC) champion Denver Broncos defeated the National Football Conference (NFC) champion Carolina Panthers'},\n",
       " {'score': 8.698749,\n",
       "  'text': 'Denver Broncos defeated the National Football Conference (NFC) champion Carolina Panthers 24–10'},\n",
       " {'score': 8.564824,\n",
       "  'text': 'The American Football Conference (AFC) champion Denver Broncos defeated the National Football Conference (NFC) champion Carolina Panthers'},\n",
       " {'score': 7.906079, 'text': 'champion Denver Broncos'},\n",
       " {'score': 7.668629, 'text': 'AFC) champion Denver Broncos'},\n",
       " {'score': 7.591703,\n",
       "  'text': 'Denver Broncos defeated the National Football Conference (NFC) champion Carolina'},\n",
       " {'score': 7.2063627,\n",
       "  'text': 'Denver Broncos defeated the National Football Conference (NFC) champion'},\n",
       " {'score': 7.1505404,\n",
       "  'text': 'Denver Broncos defeated the National Football Conference (NFC) champion Carolina Panthers 24–10 to earn their third Super Bowl title.'},\n",
       " {'score': 6.6924767, 'text': 'Panthers'}]"
      ]
     },
     "execution_count": 57,
     "metadata": {},
     "output_type": "execute_result"
    }
   ],
   "source": [
    "start_logits = output.start_logits[0].cpu().numpy()\n",
    "end_logits = output.end_logits[0].cpu().numpy()\n",
    "offset_mapping = validation_features[0][\"offset_mapping\"]\n",
    "\n",
    "# 第一个特征来自第一个示例。对于更一般的情况，我们需要将example_id匹配到一个示例索引\n",
    "context = datasets[\"validation\"][0][\"context\"]\n",
    "\n",
    "# 收集最佳开始/结束逻辑的索引：\n",
    "start_indexes = np.argsort(start_logits)[-1 : -n_best_size - 1 : -1].tolist()\n",
    "end_indexes = np.argsort(end_logits)[-1 : -n_best_size - 1 : -1].tolist()\n",
    "valid_answers = []\n",
    "for start_index in start_indexes:\n",
    "    for end_index in end_indexes:\n",
    "        # 不考虑超出范围的答案，原因是索引超出范围或对应于输入ID的部分不在上下文中。\n",
    "        if (\n",
    "            start_index >= len(offset_mapping)\n",
    "            or end_index >= len(offset_mapping)\n",
    "            or offset_mapping[start_index] is None\n",
    "            or offset_mapping[end_index] is None\n",
    "        ):\n",
    "            continue\n",
    "        # 不考虑长度小于0或大于max_answer_length的答案。\n",
    "        if end_index < start_index or end_index - start_index + 1 > max_answer_length:\n",
    "            continue\n",
    "        if start_index <= end_index: # 我们需要细化这个测试，以检查答案是否在上下文中\n",
    "            start_char = offset_mapping[start_index][0]\n",
    "            end_char = offset_mapping[end_index][1]\n",
    "            valid_answers.append(\n",
    "                {\n",
    "                    \"score\": start_logits[start_index] + end_logits[end_index],\n",
    "                    \"text\": context[start_char: end_char]\n",
    "                }\n",
    "            )\n",
    "\n",
    "valid_answers = sorted(valid_answers, key=lambda x: x[\"score\"], reverse=True)[:n_best_size]\n",
    "valid_answers\n"
   ]
  },
  {
   "cell_type": "markdown",
   "metadata": {},
   "source": [
    "打印比较模型输出和标准答案（Ground-truth）是否一致:"
   ]
  },
  {
   "cell_type": "code",
   "execution_count": 64,
   "metadata": {},
   "outputs": [
    {
     "data": {
      "text/plain": [
       "{'id': '56be4db0acb8001400a502ee',\n",
       " 'title': 'Super_Bowl_50',\n",
       " 'context': 'Super Bowl 50 was an American football game to determine the champion of the National Football League (NFL) for the 2015 season. The American Football Conference (AFC) champion Denver Broncos defeated the National Football Conference (NFC) champion Carolina Panthers 24–10 to earn their third Super Bowl title. The game was played on February 7, 2016, at Levi\\'s Stadium in the San Francisco Bay Area at Santa Clara, California. As this was the 50th Super Bowl, the league emphasized the \"golden anniversary\" with various gold-themed initiatives, as well as temporarily suspending the tradition of naming each Super Bowl game with Roman numerals (under which the game would have been known as \"Super Bowl L\"), so that the logo could prominently feature the Arabic numerals 50.',\n",
       " 'question': 'Where did Super Bowl 50 take place?',\n",
       " 'answers': {'text': ['Santa Clara, California',\n",
       "   \"Levi's Stadium\",\n",
       "   \"Levi's Stadium in the San Francisco Bay Area at Santa Clara, California.\"],\n",
       "  'answer_start': [403, 355, 355]}}"
      ]
     },
     "execution_count": 64,
     "metadata": {},
     "output_type": "execute_result"
    }
   ],
   "source": [
    "datasets[\"validation\"][2]"
   ]
  },
  {
   "cell_type": "markdown",
   "metadata": {},
   "source": [
    "**模型最高概率的输出与标准答案一致**\n",
    "\n",
    "正如上面的代码所示，这在第一个特征上很容易，因为我们知道它来自第一个示例。\n",
    "\n",
    "对于其他特征，我们需要建立一个示例与其对应特征的映射关系。\n",
    "\n",
    "此外，由于一个示例可以生成多个特征，我们需要将由给定示例生成的所有特征中的所有答案汇集在一起，然后选择最佳答案。\n",
    "\n",
    "下面的代码构建了一个示例索引到其对应特征索引的映射关系："
   ]
  },
  {
   "cell_type": "code",
   "execution_count": 65,
   "metadata": {},
   "outputs": [],
   "source": [
    "import collections\n",
    "\n",
    "examples = datasets[\"validation\"]\n",
    "features = validation_features\n",
    "\n",
    "example_id_to_index = {k: i for i, k in enumerate(examples[\"id\"])}\n",
    "features_per_example = collections.defaultdict(list)\n",
    "for i, feature in enumerate(features):\n",
    "    features_per_example[example_id_to_index[feature[\"example_id\"]]].append(i)"
   ]
  },
  {
   "cell_type": "code",
   "execution_count": 67,
   "metadata": {},
   "outputs": [
    {
     "data": {
      "text/plain": [
       "[0]"
      ]
     },
     "execution_count": 67,
     "metadata": {},
     "output_type": "execute_result"
    }
   ],
   "source": [
    "features_per_example[0]"
   ]
  },
  {
   "cell_type": "markdown",
   "metadata": {},
   "source": [
    "当`squad_v2 = True`时，有一定概率出现不可能的答案（impossible answer)。\n",
    "\n",
    "上面的代码仅保留在上下文中的答案，我们还需要获取不可能答案的分数（其起始和结束索引对应于CLS标记的索引）。\n",
    "\n",
    "当一个示例生成多个特征时，我们必须在所有特征中的不可能答案都预测出现不可能答案时（因为一个特征可能之所以能够预测出不可能答案，是因为答案不在它可以访问的上下文部分），这就是为什么一个示例中不可能答案的分数是该示例生成的每个特征中的不可能答案的分数的最小值。"
   ]
  },
  {
   "cell_type": "code",
   "execution_count": 68,
   "metadata": {},
   "outputs": [],
   "source": [
    "from tqdm.auto import tqdm\n",
    "\n",
    "def postprocess_qa_predictions(examples, features, raw_predictions, n_best_size = 20, max_answer_length = 30):\n",
    "    all_start_logits, all_end_logits = raw_predictions\n",
    "    # 构建一个从示例到其对应特征的映射。\n",
    "    example_id_to_index = {k: i for i, k in enumerate(examples[\"id\"])}\n",
    "    features_per_example = collections.defaultdict(list)\n",
    "    for i, feature in enumerate(features):\n",
    "        features_per_example[example_id_to_index[feature[\"example_id\"]]].append(i)\n",
    "\n",
    "    # 我们需要填充的字典。\n",
    "    predictions = collections.OrderedDict()\n",
    "\n",
    "    # 日志记录。\n",
    "    print(f\"正在后处理 {len(examples)} 个示例的预测，这些预测分散在 {len(features)} 个特征中。\")\n",
    "\n",
    "    # 遍历所有示例！\n",
    "    for example_index, example in enumerate(tqdm(examples)):\n",
    "        # 这些是与当前示例关联的特征的索引。\n",
    "        feature_indices = features_per_example[example_index]\n",
    "\n",
    "        min_null_score = None # 仅在squad_v2为True时使用。\n",
    "        valid_answers = []\n",
    "        \n",
    "        context = example[\"context\"]\n",
    "        # 遍历与当前示例关联的所有特征。\n",
    "        for feature_index in feature_indices:\n",
    "            # 我们获取模型对这个特征的预测。\n",
    "            start_logits = all_start_logits[feature_index]\n",
    "            end_logits = all_end_logits[feature_index]\n",
    "            # 这将允许我们将logits中的某些位置映射到原始上下文中的文本跨度。\n",
    "            offset_mapping = features[feature_index][\"offset_mapping\"]\n",
    "\n",
    "            # 更新最小空预测。\n",
    "            cls_index = features[feature_index][\"input_ids\"].index(tokenizer.cls_token_id)\n",
    "            feature_null_score = start_logits[cls_index] + end_logits[cls_index]\n",
    "            if min_null_score is None or min_null_score < feature_null_score:\n",
    "                min_null_score = feature_null_score\n",
    "\n",
    "            # 浏览所有的最佳开始和结束logits，为 `n_best_size` 个最佳选择。\n",
    "            start_indexes = np.argsort(start_logits)[-1 : -n_best_size - 1 : -1].tolist()\n",
    "            end_indexes = np.argsort(end_logits)[-1 : -n_best_size - 1 : -1].tolist()\n",
    "            for start_index in start_indexes:\n",
    "                for end_index in end_indexes:\n",
    "                    # 不考虑超出范围的答案，原因是索引超出范围或对应于输入ID的部分不在上下文中。\n",
    "                    if (\n",
    "                        start_index >= len(offset_mapping)\n",
    "                        or end_index >= len(offset_mapping)\n",
    "                        or offset_mapping[start_index] is None\n",
    "                        or offset_mapping[end_index] is None\n",
    "                    ):\n",
    "                        continue\n",
    "                    # 不考虑长度小于0或大于max_answer_length的答案。\n",
    "                    if end_index < start_index or end_index - start_index + 1 > max_answer_length:\n",
    "                        continue\n",
    "\n",
    "                    start_char = offset_mapping[start_index][0]\n",
    "                    end_char = offset_mapping[end_index][1]\n",
    "                    valid_answers.append(\n",
    "                        {\n",
    "                            \"score\": start_logits[start_index] + end_logits[end_index],\n",
    "                            \"text\": context[start_char: end_char]\n",
    "                        }\n",
    "                    )\n",
    "        \n",
    "        if len(valid_answers) > 0:\n",
    "            best_answer = sorted(valid_answers, key=lambda x: x[\"score\"], reverse=True)[0]\n",
    "        else:\n",
    "            # 在极少数情况下我们没有一个非空预测，我们创建一个假预测以避免失败。\n",
    "            best_answer = {\"text\": \"\", \"score\": 0.0}\n",
    "        \n",
    "        # 选择我们的最终答案：最佳答案或空答案（仅适用于squad_v2）\n",
    "        if not squad_v2:\n",
    "            predictions[example[\"id\"]] = best_answer[\"text\"]\n",
    "        else:\n",
    "            answer = best_answer[\"text\"] if best_answer[\"score\"] > min_null_score else \"\"\n",
    "            predictions[example[\"id\"]] = answer\n",
    "\n",
    "    return predictions\n"
   ]
  },
  {
   "cell_type": "markdown",
   "metadata": {},
   "source": [
    "在原始结果上应用后处理问答结果："
   ]
  },
  {
   "cell_type": "code",
   "execution_count": 69,
   "metadata": {},
   "outputs": [
    {
     "name": "stdout",
     "output_type": "stream",
     "text": [
      "正在后处理 10570 个示例的预测，这些预测分散在 10626 个特征中。\n"
     ]
    },
    {
     "name": "stderr",
     "output_type": "stream",
     "text": [
      "100%|██████████| 10570/10570 [00:17<00:00, 601.80it/s]\n"
     ]
    }
   ],
   "source": [
    "final_predictions = postprocess_qa_predictions(datasets[\"validation\"], validation_features, raw_predictions.predictions)"
   ]
  },
  {
   "cell_type": "markdown",
   "metadata": {},
   "source": [
    "使用 `datasets.load_metric` 中加载 `SQuAD v2` 的评估指标"
   ]
  },
  {
   "cell_type": "code",
   "execution_count": 70,
   "metadata": {},
   "outputs": [
    {
     "name": "stderr",
     "output_type": "stream",
     "text": [
      "/tmp/ipykernel_6180/2330875496.py:3: FutureWarning: load_metric is deprecated and will be removed in the next major version of datasets. Use 'evaluate.load' instead, from the new library 🤗 Evaluate: https://huggingface.co/docs/evaluate\n",
      "  metric = load_metric(\"squad_v2\" if squad_v2 else \"squad\")\n",
      "/home/imdl/anaconda3/envs/peft/lib/python3.10/site-packages/datasets/load.py:752: FutureWarning: The repository for squad contains custom code which must be executed to correctly load the metric. You can inspect the repository content at https://raw.githubusercontent.com/huggingface/datasets/2.16.1/metrics/squad/squad.py\n",
      "You can avoid this message in future by passing the argument `trust_remote_code=True`.\n",
      "Passing `trust_remote_code=True` will be mandatory to load this metric from the next major release of `datasets`.\n",
      "  warnings.warn(\n",
      "Downloading builder script: 4.50kB [00:00, 3.23MB/s]                   \n",
      "Downloading extra modules: 3.30kB [00:00, 2.11MB/s]                   \n"
     ]
    }
   ],
   "source": [
    "from datasets import load_metric\n",
    "\n",
    "metric = load_metric(\"squad_v2\" if squad_v2 else \"squad\")"
   ]
  },
  {
   "cell_type": "markdown",
   "metadata": {},
   "source": [
    "接下来，我们可以调用上面定义的函数进行评估。\n",
    "\n",
    "只需稍微调整一下预测和标签的格式，因为它期望的是一系列字典而不是一个大字典。\n",
    "\n",
    "在使用`squad_v2`数据集时，我们还需要设置`no_answer_probability`参数（我们在这里将其设置为0.0，因为如果我们选择了答案，我们已经将答案设置为空）。"
   ]
  },
  {
   "cell_type": "code",
   "execution_count": 71,
   "metadata": {},
   "outputs": [
    {
     "data": {
      "text/plain": [
       "{'exact_match': 74.66414380321665, 'f1': 83.42090205258609}"
      ]
     },
     "execution_count": 71,
     "metadata": {},
     "output_type": "execute_result"
    }
   ],
   "source": [
    "if squad_v2:\n",
    "    formatted_predictions = [{\"id\": k, \"prediction_text\": v, \"no_answer_probability\": 0.0} for k, v in final_predictions.items()]\n",
    "else:\n",
    "    formatted_predictions = [{\"id\": k, \"prediction_text\": v} for k, v in final_predictions.items()]\n",
    "references = [{\"id\": ex[\"id\"], \"answers\": ex[\"answers\"]} for ex in datasets[\"validation\"]]\n",
    "metric.compute(predictions=formatted_predictions, references=references)"
   ]
  },
  {
   "cell_type": "code",
   "execution_count": null,
   "metadata": {},
   "outputs": [],
   "source": []
  },
  {
   "cell_type": "markdown",
   "metadata": {},
   "source": [
    "### Homework：加载本地保存的模型，进行评估和再训练更高的 F1 Score"
   ]
  },
  {
   "cell_type": "code",
   "execution_count": 50,
   "metadata": {},
   "outputs": [],
   "source": [
    "trained_model = AutoModelForQuestionAnswering.from_pretrained(model_dir)"
   ]
  },
  {
   "cell_type": "code",
   "execution_count": 51,
   "metadata": {},
   "outputs": [
    {
     "name": "stderr",
     "output_type": "stream",
     "text": [
      "Detected kernel version 4.4.0, which is below the recommended minimum of 5.5.0; this can cause the process to hang. It is recommended to upgrade the kernel to the minimum version or higher.\n"
     ]
    }
   ],
   "source": [
    "trained_trainer = Trainer(\n",
    "    trained_model,\n",
    "    args,\n",
    "    train_dataset=tokenized_datasets[\"train\"],\n",
    "    eval_dataset=tokenized_datasets[\"validation\"],\n",
    "    data_collator=data_collator,\n",
    "    tokenizer=tokenizer,\n",
    ")"
   ]
  },
  {
   "cell_type": "code",
   "execution_count": null,
   "metadata": {},
   "outputs": [],
   "source": []
  }
 ],
 "metadata": {
  "colab": {
   "name": "Question Answering on SQUAD",
   "provenance": []
  },
  "kernelspec": {
   "display_name": "Python 3 (ipykernel)",
   "language": "python",
   "name": "python3"
  },
  "language_info": {
   "codemirror_mode": {
    "name": "ipython",
    "version": 3
   },
   "file_extension": ".py",
   "mimetype": "text/x-python",
   "name": "python",
   "nbconvert_exporter": "python",
   "pygments_lexer": "ipython3",
   "version": "3.10.14"
  }
 },
 "nbformat": 4,
 "nbformat_minor": 4
}
